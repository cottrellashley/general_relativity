{
 "cells": [
  {
   "cell_type": "code",
   "execution_count": 1,
   "id": "ce0efe56-3add-455c-a750-c9398fd358a8",
   "metadata": {},
   "outputs": [],
   "source": [
    "import sympy as smp\n",
    "import numpy as np\n",
    "import matplotlib.pyplot as plt\n",
    "\n",
    "Pandas\n",
    "Statsmodels\n",
    "itertools"
   ]
  },
  {
   "cell_type": "code",
   "execution_count": 2,
   "id": "738e2d20-95fd-43ce-a126-7d54565d35ab",
   "metadata": {},
   "outputs": [],
   "source": [
    "# smp.eye()\n",
    "# smp.Array([])\n",
    "# smp.tensorproduct(Tensor 1, Tensor 2)\n",
    "# smp.tensorcontraction(Tensor, (first index, second index))"
   ]
  },
  {
   "cell_type": "markdown",
   "id": "4dace6cf-5467-4c38-aca5-38c096c29262",
   "metadata": {
    "tags": []
   },
   "source": [
    "# <center>Defining Metrics Tensors, Energy-Momentum Tensors and Variables<center>"
   ]
  },
  {
   "cell_type": "markdown",
   "id": "3fe30769-fb09-4877-bfe1-71b1420e8189",
   "metadata": {
    "tags": []
   },
   "source": [
    "## The Variables"
   ]
  },
  {
   "cell_type": "code",
   "execution_count": 3,
   "id": "ea77f6d4-054c-4435-b7d0-ff895a30430c",
   "metadata": {},
   "outputs": [],
   "source": [
    "alpha, beta, r_s, G, M, t, r, theta, phi, tau, x, y, z = smp.symbols('alpha beta r_s G M t r theta phi tau x y z', float = True)"
   ]
  },
  {
   "cell_type": "markdown",
   "id": "12ede966-17ab-49ff-8f06-b1e8e6959355",
   "metadata": {
    "tags": []
   },
   "source": [
    "## The Metric Tensors"
   ]
  },
  {
   "cell_type": "markdown",
   "id": "25482e62-44f9-41f8-bff0-30424359ff31",
   "metadata": {
    "tags": []
   },
   "source": [
    "#### The Schwarzschild Metric"
   ]
  },
  {
   "cell_type": "code",
   "execution_count": 4,
   "id": "69946050-2ff8-469d-934d-d496e0f7dbef",
   "metadata": {},
   "outputs": [],
   "source": [
    "t_p, r_p, theta_p, phi_p = smp.symbols('t_p r_p theta_p phi_p', cls = smp.Function)\n",
    "\n",
    "t_p = t_p(tau)\n",
    "r_p = r_p(tau)\n",
    "theta_p = theta_p(tau)\n",
    "phi_p = phi_p(tau)\n",
    "\n",
    "Schild = { 'Metric' : smp.MutableDenseNDimArray([[-(1 - (r_s)/(r_p)),0,0,0],\n",
    "                                                 [0,1/(1 - (r_s)/(r_p)),0,0],\n",
    "                                                 [0,0,r_p**2,0],\n",
    "                                                 [0,0,0,r_p**2*smp.sin(theta_p)**2]]),\n",
    "          'Basis' : smp.Array([t_p,r_p,theta_p,phi_p]),\n",
    "          \n",
    "          'Dimention' : 4, \n",
    "          \n",
    "          'Basis_Parameter' : smp.MutableDenseNDimArray([t_p, r_p, theta_p, phi_p]) }"
   ]
  },
  {
   "cell_type": "markdown",
   "id": "3db85b4a-10f4-4789-82a8-4b320040e90d",
   "metadata": {
    "tags": []
   },
   "source": [
    "#### The Spherical Polar Metric"
   ]
  },
  {
   "cell_type": "code",
   "execution_count": 5,
   "id": "1dfb7df6-ba89-4268-bde1-352ff351ccf6",
   "metadata": {},
   "outputs": [],
   "source": [
    "Polar_Coordinates = { 'Metric' : smp.MutableDenseNDimArray([[1, 0, 0], [0, r**2, 0], [0, 0, r**2*smp.sin(theta)**2]]),\n",
    "                       \n",
    "                       'Basis' : smp.Array([r, theta , phi]),\n",
    "                     \n",
    "                     'Dimention' : 3}"
   ]
  },
  {
   "cell_type": "markdown",
   "id": "99fba7b2-e110-45cf-9aa9-32a6be1187bc",
   "metadata": {
    "tags": []
   },
   "source": [
    "#### A 2-Sphere Metric"
   ]
  },
  {
   "cell_type": "code",
   "execution_count": 6,
   "id": "334ffe74-8ba3-4b83-977e-cf34cd03bc43",
   "metadata": {},
   "outputs": [],
   "source": [
    "Two_Sphere = { 'Metric' : smp.MutableDenseNDimArray([[r**2, 0], [0, r**2*smp.sin(theta)**2]]) ,\n",
    "            \n",
    "               'Basis' : smp.Array([theta, phi]) , \n",
    "              \n",
    "              'Dimention' : 2}"
   ]
  },
  {
   "cell_type": "markdown",
   "id": "9179fb0d-8f30-4c0e-872a-80c696d33ed8",
   "metadata": {
    "tags": []
   },
   "source": [
    "#### A General Spherically Symmetric Metric"
   ]
  },
  {
   "cell_type": "code",
   "execution_count": 7,
   "id": "1404ab63-50ee-449f-b76b-fe5faf98ca30",
   "metadata": {},
   "outputs": [],
   "source": [
    "t_p, r_p, theta_p, phi_p = smp.symbols('t_p r_p theta_p phi_p', cls = smp.Function)\n",
    "\n",
    "t_p = t_p(tau)\n",
    "r_p = r_p(tau)\n",
    "theta_p = theta_p(tau)\n",
    "phi_p = phi_p(tau)\n",
    "\n",
    "A , B = smp.symbols('A B', cls = smp.Function)\n",
    "A = A(r_p)\n",
    "B = B(r_p)\n",
    "\n",
    "\n",
    "Sphecally_Symmetric_Metric = { 'Metric' : smp.MutableDenseNDimArray([[-A,0,0,0],\n",
    "                                                                     [0,B,0,0],\n",
    "                                                                     [0,0,r_p**2,0],\n",
    "                                                                     [0,0,0,r_p**2*smp.sin(theta_p)**2]]),\n",
    "                              \n",
    "                              'Basis' : smp.Array([t_p,r_p,theta_p,phi_p]),\n",
    "                              \n",
    "                              'Dimention' : 4,\n",
    "                              \n",
    "                              'Basis_Parameter' : smp.MutableDenseNDimArray([t_p, r_p, theta_p, phi_p])}"
   ]
  },
  {
   "cell_type": "markdown",
   "id": "e3f10f4a-a052-4885-a0c0-ef749fd73dd4",
   "metadata": {
    "tags": []
   },
   "source": [
    "# <center>Functions of the Objects from Differential Geometry<center>\n",
    "\n",
    "In general relativity, either:\n",
    "\n",
    "1. We know the metric to begin with. (From which we can calculate anything we like with it using the functions bellow.)\n",
    "\n",
    "2. We do not know the metric, but wish to find it. (In which case we must solve Einsteins equations using the functions bellow.)"
   ]
  },
  {
   "cell_type": "markdown",
   "id": "30ab3f8b-051e-4c40-8f2b-793c8cce092b",
   "metadata": {
    "tags": []
   },
   "source": [
    "### Derivative of Rank-2 Tensor\n",
    "\n",
    "$$\\partial_{\\mu} g_{\\nu \\beta}$$"
   ]
  },
  {
   "cell_type": "code",
   "execution_count": 8,
   "id": "80dfcc79-5332-4cc3-8e0c-d9921d7260fb",
   "metadata": {
    "tags": []
   },
   "outputs": [],
   "source": [
    "def Derivative(T):\n",
    "    G = T['Metric']\n",
    "    N = T['Dimention']\n",
    "    basis = T['Basis']\n",
    "    A = smp.MutableDenseNDimArray(smp.zeros(N**3),(N,N,N))\n",
    "    for i in range(N):\n",
    "        for j in range(N):\n",
    "            for k in range(N):\n",
    "                A[i,j,k] = smp.diff(G[j,k],basis[i])\n",
    "    return A"
   ]
  },
  {
   "cell_type": "markdown",
   "id": "df0d5681-6816-4d93-85aa-d0bddf4d1b3c",
   "metadata": {
    "tags": []
   },
   "source": [
    "### Inverse of Rank-2 Tensor\n",
    "\n",
    "$$ g^{\\nu \\beta} = (g^{-1})_{\\nu \\beta}$$"
   ]
  },
  {
   "cell_type": "code",
   "execution_count": 9,
   "id": "1d63d408-19d0-4995-9f7b-e5bb63d229f2",
   "metadata": {
    "tags": []
   },
   "outputs": [],
   "source": [
    "def inv(T):\n",
    "    G = T['Metric']\n",
    "    N = T['Dimention']\n",
    "    basis = T['Basis']\n",
    "    g_m = G.tomatrix()\n",
    "    inv_g = g_m.inv()\n",
    "    A = smp.MutableDenseNDimArray(smp.zeros(N**2),(N,N))\n",
    "    for i in range(N):\n",
    "        for j in range(N):\n",
    "            A[i,j] = inv_g[i, j]\n",
    "    return A"
   ]
  },
  {
   "cell_type": "markdown",
   "id": "a0a9eecc-4d86-4ed8-a9e3-90991ca37ddb",
   "metadata": {
    "tags": []
   },
   "source": [
    "### The Christoffel Symbols"
   ]
  },
  {
   "cell_type": "markdown",
   "id": "f94848db-b95a-4461-933a-8da5aadecc27",
   "metadata": {},
   "source": [
    "$$ \\Gamma^{\\alpha}_{\\mu \\nu} = \\frac{1}{2} g^{\\alpha \\beta} \\left( \\partial_{\\mu} g_{\\nu \\beta} + \\partial_{\\nu} g_{\\mu \\beta} - \\partial_{\\beta} g_{\\mu \\nu} \\right) $$"
   ]
  },
  {
   "cell_type": "code",
   "execution_count": 70,
   "id": "ee804d7e-2ee9-4abc-9ccd-35308ec39700",
   "metadata": {
    "tags": []
   },
   "outputs": [],
   "source": [
    "def Gamma(T):\n",
    "    G = T['Metric']\n",
    "    N = T['Dimention']\n",
    "    basis = T['Basis']\n",
    "    A1 = smp.MutableDenseNDimArray(smp.zeros(N**3),(N,N,N))\n",
    "    ig = inv(T)\n",
    "    for i in range(N):\n",
    "        for j in range(N):\n",
    "            for k in range(N):\n",
    "                for d in range(N):\n",
    "                    A1[i, j, k] += smp.Rational(1, 2)*(ig[d,i])*(smp.diff(G[k,d],basis[j]) + smp.diff(G[d,j],basis[k]) - smp.diff(G[j,k],basis[d]))\n",
    "            \n",
    "    \n",
    "    return A1"
   ]
  },
  {
   "cell_type": "code",
   "execution_count": 71,
   "id": "2daadb58-c0ae-41bb-88d0-c0e7023832eb",
   "metadata": {},
   "outputs": [
    {
     "data": {
      "text/latex": [
       "$\\displaystyle \\left[\\begin{matrix}\\left[\\begin{matrix}0 & - \\frac{r_{s}}{2 \\left(\\frac{r_{s}}{\\operatorname{r_{p}}{\\left(\\tau \\right)}} - 1\\right) \\operatorname{r_{p}}^{2}{\\left(\\tau \\right)}} & 0 & 0\\\\- \\frac{r_{s}}{2 \\left(\\frac{r_{s}}{\\operatorname{r_{p}}{\\left(\\tau \\right)}} - 1\\right) \\operatorname{r_{p}}^{2}{\\left(\\tau \\right)}} & 0 & 0 & 0\\\\0 & 0 & 0 & 0\\\\0 & 0 & 0 & 0\\end{matrix}\\right] & \\left[\\begin{matrix}\\frac{r_{s} \\left(- \\frac{r_{s}}{2 \\operatorname{r_{p}}{\\left(\\tau \\right)}} + \\frac{1}{2}\\right)}{\\operatorname{r_{p}}^{2}{\\left(\\tau \\right)}} & 0 & 0 & 0\\\\0 & - \\frac{r_{s} \\left(- \\frac{r_{s}}{2 \\operatorname{r_{p}}{\\left(\\tau \\right)}} + \\frac{1}{2}\\right)}{\\left(- \\frac{r_{s}}{\\operatorname{r_{p}}{\\left(\\tau \\right)}} + 1\\right)^{2} \\operatorname{r_{p}}^{2}{\\left(\\tau \\right)}} & 0 & 0\\\\0 & 0 & - 2 \\left(- \\frac{r_{s}}{2 \\operatorname{r_{p}}{\\left(\\tau \\right)}} + \\frac{1}{2}\\right) \\operatorname{r_{p}}{\\left(\\tau \\right)} & 0\\\\0 & 0 & 0 & - 2 \\left(- \\frac{r_{s}}{2 \\operatorname{r_{p}}{\\left(\\tau \\right)}} + \\frac{1}{2}\\right) \\operatorname{r_{p}}{\\left(\\tau \\right)} \\sin^{2}{\\left(\\theta_{p}{\\left(\\tau \\right)} \\right)}\\end{matrix}\\right] & \\left[\\begin{matrix}0 & 0 & 0 & 0\\\\0 & 0 & \\frac{1}{\\operatorname{r_{p}}{\\left(\\tau \\right)}} & 0\\\\0 & \\frac{1}{\\operatorname{r_{p}}{\\left(\\tau \\right)}} & 0 & 0\\\\0 & 0 & 0 & - \\sin{\\left(\\theta_{p}{\\left(\\tau \\right)} \\right)} \\cos{\\left(\\theta_{p}{\\left(\\tau \\right)} \\right)}\\end{matrix}\\right] & \\left[\\begin{matrix}0 & 0 & 0 & 0\\\\0 & 0 & 0 & \\frac{1}{\\operatorname{r_{p}}{\\left(\\tau \\right)}}\\\\0 & 0 & 0 & \\frac{\\cos{\\left(\\theta_{p}{\\left(\\tau \\right)} \\right)}}{\\sin{\\left(\\theta_{p}{\\left(\\tau \\right)} \\right)}}\\\\0 & \\frac{1}{\\operatorname{r_{p}}{\\left(\\tau \\right)}} & \\frac{\\cos{\\left(\\theta_{p}{\\left(\\tau \\right)} \\right)}}{\\sin{\\left(\\theta_{p}{\\left(\\tau \\right)} \\right)}} & 0\\end{matrix}\\right]\\end{matrix}\\right]$"
      ],
      "text/plain": [
       "[[[0, -r_s/(2*(r_s/r_p(tau) - 1)*r_p(tau)**2), 0, 0], [-r_s/(2*(r_s/r_p(tau) - 1)*r_p(tau)**2), 0, 0, 0], [0, 0, 0, 0], [0, 0, 0, 0]], [[r_s*(-r_s/(2*r_p(tau)) + 1/2)/r_p(tau)**2, 0, 0, 0], [0, -r_s*(-r_s/(2*r_p(tau)) + 1/2)/((-r_s/r_p(tau) + 1)**2*r_p(tau)**2), 0, 0], [0, 0, -2*(-r_s/(2*r_p(tau)) + 1/2)*r_p(tau), 0], [0, 0, 0, -2*(-r_s/(2*r_p(tau)) + 1/2)*r_p(tau)*sin(theta_p(tau))**2]], [[0, 0, 0, 0], [0, 0, 1/r_p(tau), 0], [0, 1/r_p(tau), 0, 0], [0, 0, 0, -sin(theta_p(tau))*cos(theta_p(tau))]], [[0, 0, 0, 0], [0, 0, 0, 1/r_p(tau)], [0, 0, 0, cos(theta_p(tau))/sin(theta_p(tau))], [0, 1/r_p(tau), cos(theta_p(tau))/sin(theta_p(tau)), 0]]]"
      ]
     },
     "execution_count": 71,
     "metadata": {},
     "output_type": "execute_result"
    }
   ],
   "source": [
    "Gamma(Schild)"
   ]
  },
  {
   "cell_type": "markdown",
   "id": "c2b0137b-12db-42b5-b883-b252f036f00b",
   "metadata": {
    "tags": []
   },
   "source": [
    "### The Covarient Derivatives"
   ]
  },
  {
   "cell_type": "markdown",
   "id": "b299950f-a86d-4277-8063-5b088fad60c8",
   "metadata": {},
   "source": [
    "Acting on: The Contravariant (1,0) Tensor (Vector) Field \n",
    "\n",
    "$$D_{\\mu}V^{\\nu} = {\\partial}_{\\mu}V^{\\nu} + {\\Gamma}^{\\nu}_{\\mu \\alpha}V^{\\alpha}$$"
   ]
  },
  {
   "cell_type": "code",
   "execution_count": 11,
   "id": "2c99f33e-a995-4286-82b8-ff0f82f6b910",
   "metadata": {},
   "outputs": [],
   "source": [
    "def CovariantD10(T, V):\n",
    "    N = T['Dimention']\n",
    "    basis = T['Basis']\n",
    "    C = Gamma(T)\n",
    "    DV = smp.MutableDenseNDimArray(smp.zeros(N**2),(N,N))\n",
    "    for i in range(N):\n",
    "        for j in range(N):\n",
    "            for k in range(N):\n",
    "                DV[i,j] += smp.Rational(1, N)*smp.diff(V[j],basis[i]) + C[j,i,k]*V[k]\n",
    "    return DV"
   ]
  },
  {
   "cell_type": "markdown",
   "id": "e4706013-ca41-477f-ae0f-6c3a0d6516bb",
   "metadata": {},
   "source": [
    "Acting on: The Covariant (0,1) Tensor (Vector) Field\n",
    "\n",
    "$$D_{\\mu}V_{\\nu} = {\\partial}_{\\mu}V_{\\nu} - {\\Gamma}^{\\alpha}_{\\mu \\nu}V_{\\alpha}$$"
   ]
  },
  {
   "cell_type": "code",
   "execution_count": 12,
   "id": "0e4a842d-fe07-4f22-861c-8ce0c9cd2857",
   "metadata": {},
   "outputs": [],
   "source": [
    "def CovariantD01(T, V):\n",
    "    N = T['Dimention']\n",
    "    basis = T['Basis']\n",
    "    C = Gamma(T)\n",
    "    DV = smp.MutableDenseNDimArray(smp.zeros(N**2),(N,N))\n",
    "    for i in range(N):\n",
    "        for j in range(N):\n",
    "            for k in range(N):\n",
    "                DV[i,j] += smp.Rational(1, N)*smp.diff(V[j],basis[i]) - C[k,i,j]*V[k]\n",
    "    return DV"
   ]
  },
  {
   "cell_type": "markdown",
   "id": "cc399325-1af1-468a-8082-c3089da1df0a",
   "metadata": {},
   "source": [
    "Acting on: Type (2,0) Tensor Field\n",
    "\n",
    "$$D_{\\alpha}T^{\\mu \\nu} = {\\partial}_{\\alpha}T^{\\mu \\nu} + {\\Gamma}^{\\mu}_{\\alpha \\gamma}T^{\\gamma \\nu} + {\\Gamma}^{\\nu}_{\\alpha \\gamma}T^{\\gamma \\mu}$$"
   ]
  },
  {
   "cell_type": "code",
   "execution_count": 13,
   "id": "62ccf500-496b-4dd8-af2b-a0b6b5d61794",
   "metadata": {},
   "outputs": [],
   "source": [
    "def CovariantD20(G, T):\n",
    "    N = G['Dimention']\n",
    "    basis = G['Basis']\n",
    "    C = Gamma(G)\n",
    "    DT = smp.MutableDenseNDimArray(smp.zeros(N**3),(N,N,N))\n",
    "    for i in range(N):\n",
    "        for j in range(N):\n",
    "            for k in range(N):\n",
    "                for p in range(N):\n",
    "                    DT[i,j,k] += smp.Rational(1, N)*smp.diff(T[j,k],basis[i]) + C[j,i,p]*T[p,k] + C[k,i,p]*T[p,j]\n",
    "    return DT"
   ]
  },
  {
   "cell_type": "markdown",
   "id": "5baab5a0-f8c7-450c-b002-56fbce5d4a78",
   "metadata": {},
   "source": [
    "Acting on: Type (0,2) Tensor Field\n",
    "\n",
    "$$D_{\\alpha}T_{\\mu \\nu} = {\\partial}_{\\alpha}T_{\\mu \\nu} - {\\Gamma}^{\\gamma}_{\\alpha \\mu}T_{\\gamma \\nu} - {\\Gamma}^{\\gamma}_{\\alpha \\nu}T_{\\gamma \\mu}$$"
   ]
  },
  {
   "cell_type": "code",
   "execution_count": 14,
   "id": "003c4f0e-912b-4eb4-bcdb-bc1487a74180",
   "metadata": {},
   "outputs": [],
   "source": [
    "def CovariantD02(G, T):\n",
    "    N = G['Dimention']\n",
    "    basis = G['Basis']\n",
    "    C = Gamma(G)\n",
    "    DT = smp.MutableDenseNDimArray(smp.zeros(N**3),(N,N,N))\n",
    "    for i in range(N):\n",
    "        for j in range(N):\n",
    "            for k in range(N):\n",
    "                for p in range(N):\n",
    "                    DT[i,j,k] += smp.Rational(1, N)*smp.diff(T[j,k],basis[i]) - C[p,i,j]*T[p,k] - C[p,i,k]*T[p,j]\n",
    "    return DT"
   ]
  },
  {
   "cell_type": "markdown",
   "id": "071b7886-3551-4630-a8b0-ca3fdcbd8506",
   "metadata": {},
   "source": [
    "Acting on: Type (1,1) Tensor Field\n",
    "\n",
    "$$D_{\\alpha}T^{\\mu}_{\\nu} = {\\partial}_{\\alpha}T^{\\mu}_{\\nu} + {\\Gamma}^{\\mu}_{\\alpha \\gamma}T^{\\gamma}_{\\nu} - {\\Gamma}^{\\gamma}_{\\alpha \\nu}T^{\\mu}_{\\gamma}$$"
   ]
  },
  {
   "cell_type": "code",
   "execution_count": 15,
   "id": "ed8e8d99-bbc5-4a99-9e4d-5292ff8bcf71",
   "metadata": {},
   "outputs": [],
   "source": [
    "def CovariantD11(G, T):\n",
    "    N = G['Dimention']\n",
    "    basis = G['Basis']\n",
    "    C = Gamma(G)\n",
    "    DT = smp.MutableDenseNDimArray(smp.zeros(N**3),(N,N,N))\n",
    "    for i in range(N):\n",
    "        for j in range(N):\n",
    "            for k in range(N):\n",
    "                for p in range(N):\n",
    "                    DT[i,j,k] += smp.Rational(1, N)*smp.diff(T[j,k],basis[i]) + C[j,i,p]*T[p,k] - C[p,i,k]*T[j,p]\n",
    "    return DT"
   ]
  },
  {
   "cell_type": "markdown",
   "id": "63b2c8c4-73c1-458a-82ca-067a87a648b4",
   "metadata": {
    "tags": []
   },
   "source": [
    "### The Riemannm Tensor\n",
    "\n",
    "$$ R^{ \\rho}_{\\sigma \\mu \\nu}  = {\\partial}_{\\mu} {\\Gamma}^{\\rho}_{\\nu \\sigma} - {\\partial}_{\\nu} {\\Gamma}^{\\rho}_{\\mu \\sigma} + {\\Gamma}^{\\rho}_{\\mu \\lambda}{\\Gamma}^{\\lambda}_{\\nu \\sigma} - {\\Gamma}^{\\rho}_{\\nu \\lambda}{\\Gamma}^{\\lambda}_{\\mu \\sigma} $$"
   ]
  },
  {
   "cell_type": "code",
   "execution_count": 72,
   "id": "fd73f37f-033c-4251-9427-cbc3e21d6986",
   "metadata": {
    "tags": []
   },
   "outputs": [],
   "source": [
    "def Riemann(M):\n",
    "    T = M['Metric']\n",
    "    N = M['Dimention']\n",
    "    basis = M['Basis']\n",
    "    G = Gamma(M)\n",
    "    R = smp.MutableDenseNDimArray(smp.zeros(N**4),(N,N,N,N))\n",
    "    for i in range(N):\n",
    "        for j in range(N):\n",
    "            for k in range(N):\n",
    "                for p in range(N):\n",
    "                    for d in range(N):\n",
    "                        R[i, j, k, p] += smp.Rational(1, N)*(smp.diff(G[i,p,j],basis[k])-\n",
    "                                                             smp.diff(G[i,k,j],basis[p]))+(G[i,k,d]*G[d,p,j]-G[i,p,d]*G[d,k,j])\n",
    "\n",
    "    \n",
    "    return R"
   ]
  },
  {
   "cell_type": "code",
   "execution_count": 73,
   "id": "94dcad24-025b-4c9c-ad81-3935ea6ec96a",
   "metadata": {},
   "outputs": [
    {
     "data": {
      "text/latex": [
       "$\\displaystyle \\left[\\begin{matrix}\\left[\\begin{matrix}0 & 0 & 0 & 0\\\\0 & 0 & 0 & 0\\\\0 & 0 & 0 & 0\\\\0 & 0 & 0 & 0\\end{matrix}\\right] & \\left[\\begin{matrix}0 & \\frac{r_{s}^{2}}{4 \\left(\\frac{r_{s}}{\\operatorname{r_{p}}{\\left(\\tau \\right)}} - 1\\right)^{2} \\operatorname{r_{p}}^{4}{\\left(\\tau \\right)}} + \\frac{r_{s}^{2} \\left(- \\frac{r_{s}}{2 \\operatorname{r_{p}}{\\left(\\tau \\right)}} + \\frac{1}{2}\\right)}{2 \\left(- \\frac{r_{s}}{\\operatorname{r_{p}}{\\left(\\tau \\right)}} + 1\\right)^{2} \\left(\\frac{r_{s}}{\\operatorname{r_{p}}{\\left(\\tau \\right)}} - 1\\right) \\operatorname{r_{p}}^{4}{\\left(\\tau \\right)}} - \\frac{r_{s}}{\\left(\\frac{r_{s}}{\\operatorname{r_{p}}{\\left(\\tau \\right)}} - 1\\right) \\operatorname{r_{p}}^{3}{\\left(\\tau \\right)}} & 0 & 0\\\\- \\frac{r_{s}^{2}}{4 \\left(\\frac{r_{s}}{\\operatorname{r_{p}}{\\left(\\tau \\right)}} - 1\\right)^{2} \\operatorname{r_{p}}^{4}{\\left(\\tau \\right)}} - \\frac{r_{s}^{2} \\left(- \\frac{r_{s}}{2 \\operatorname{r_{p}}{\\left(\\tau \\right)}} + \\frac{1}{2}\\right)}{2 \\left(- \\frac{r_{s}}{\\operatorname{r_{p}}{\\left(\\tau \\right)}} + 1\\right)^{2} \\left(\\frac{r_{s}}{\\operatorname{r_{p}}{\\left(\\tau \\right)}} - 1\\right) \\operatorname{r_{p}}^{4}{\\left(\\tau \\right)}} + \\frac{r_{s}}{\\left(\\frac{r_{s}}{\\operatorname{r_{p}}{\\left(\\tau \\right)}} - 1\\right) \\operatorname{r_{p}}^{3}{\\left(\\tau \\right)}} & 0 & 0 & 0\\\\0 & 0 & 0 & 0\\\\0 & 0 & 0 & 0\\end{matrix}\\right] & \\left[\\begin{matrix}0 & 0 & \\frac{r_{s} \\left(- \\frac{r_{s}}{2 \\operatorname{r_{p}}{\\left(\\tau \\right)}} + \\frac{1}{2}\\right)}{\\left(\\frac{r_{s}}{\\operatorname{r_{p}}{\\left(\\tau \\right)}} - 1\\right) \\operatorname{r_{p}}{\\left(\\tau \\right)}} & 0\\\\0 & 0 & 0 & 0\\\\- \\frac{r_{s} \\left(- \\frac{r_{s}}{2 \\operatorname{r_{p}}{\\left(\\tau \\right)}} + \\frac{1}{2}\\right)}{\\left(\\frac{r_{s}}{\\operatorname{r_{p}}{\\left(\\tau \\right)}} - 1\\right) \\operatorname{r_{p}}{\\left(\\tau \\right)}} & 0 & 0 & 0\\\\0 & 0 & 0 & 0\\end{matrix}\\right] & \\left[\\begin{matrix}0 & 0 & 0 & \\frac{r_{s} \\left(- \\frac{r_{s}}{2 \\operatorname{r_{p}}{\\left(\\tau \\right)}} + \\frac{1}{2}\\right) \\sin^{2}{\\left(\\theta_{p}{\\left(\\tau \\right)} \\right)}}{\\left(\\frac{r_{s}}{\\operatorname{r_{p}}{\\left(\\tau \\right)}} - 1\\right) \\operatorname{r_{p}}{\\left(\\tau \\right)}}\\\\0 & 0 & 0 & 0\\\\0 & 0 & 0 & 0\\\\- \\frac{r_{s} \\left(- \\frac{r_{s}}{2 \\operatorname{r_{p}}{\\left(\\tau \\right)}} + \\frac{1}{2}\\right) \\sin^{2}{\\left(\\theta_{p}{\\left(\\tau \\right)} \\right)}}{\\left(\\frac{r_{s}}{\\operatorname{r_{p}}{\\left(\\tau \\right)}} - 1\\right) \\operatorname{r_{p}}{\\left(\\tau \\right)}} & 0 & 0 & 0\\end{matrix}\\right]\\\\\\left[\\begin{matrix}0 & - \\frac{r_{s}^{2} \\left(- \\frac{r_{s}}{2 \\operatorname{r_{p}}{\\left(\\tau \\right)}} + \\frac{1}{2}\\right)}{2 \\left(\\frac{r_{s}}{\\operatorname{r_{p}}{\\left(\\tau \\right)}} - 1\\right) \\operatorname{r_{p}}^{4}{\\left(\\tau \\right)}} - \\frac{r_{s}^{2}}{2 \\operatorname{r_{p}}^{4}{\\left(\\tau \\right)}} + \\frac{r_{s}^{2} \\left(- \\frac{r_{s}}{2 \\operatorname{r_{p}}{\\left(\\tau \\right)}} + \\frac{1}{2}\\right)^{2}}{\\left(- \\frac{r_{s}}{\\operatorname{r_{p}}{\\left(\\tau \\right)}} + 1\\right)^{2} \\operatorname{r_{p}}^{4}{\\left(\\tau \\right)}} + \\frac{2 r_{s} \\left(- \\frac{r_{s}}{2 \\operatorname{r_{p}}{\\left(\\tau \\right)}} + \\frac{1}{2}\\right)}{\\operatorname{r_{p}}^{3}{\\left(\\tau \\right)}} & 0 & 0\\\\\\frac{r_{s}^{2} \\left(- \\frac{r_{s}}{2 \\operatorname{r_{p}}{\\left(\\tau \\right)}} + \\frac{1}{2}\\right)}{2 \\left(\\frac{r_{s}}{\\operatorname{r_{p}}{\\left(\\tau \\right)}} - 1\\right) \\operatorname{r_{p}}^{4}{\\left(\\tau \\right)}} + \\frac{r_{s}^{2}}{2 \\operatorname{r_{p}}^{4}{\\left(\\tau \\right)}} - \\frac{r_{s}^{2} \\left(- \\frac{r_{s}}{2 \\operatorname{r_{p}}{\\left(\\tau \\right)}} + \\frac{1}{2}\\right)^{2}}{\\left(- \\frac{r_{s}}{\\operatorname{r_{p}}{\\left(\\tau \\right)}} + 1\\right)^{2} \\operatorname{r_{p}}^{4}{\\left(\\tau \\right)}} - \\frac{2 r_{s} \\left(- \\frac{r_{s}}{2 \\operatorname{r_{p}}{\\left(\\tau \\right)}} + \\frac{1}{2}\\right)}{\\operatorname{r_{p}}^{3}{\\left(\\tau \\right)}} & 0 & 0 & 0\\\\0 & 0 & 0 & 0\\\\0 & 0 & 0 & 0\\end{matrix}\\right] & \\left[\\begin{matrix}0 & 0 & 0 & 0\\\\0 & 0 & 0 & 0\\\\0 & 0 & 0 & 0\\\\0 & 0 & 0 & 0\\end{matrix}\\right] & \\left[\\begin{matrix}0 & 0 & 0 & 0\\\\0 & 0 & - \\frac{r_{s}}{\\operatorname{r_{p}}{\\left(\\tau \\right)}} + \\frac{2 r_{s} \\left(- \\frac{r_{s}}{2 \\operatorname{r_{p}}{\\left(\\tau \\right)}} + \\frac{1}{2}\\right)^{2}}{\\left(- \\frac{r_{s}}{\\operatorname{r_{p}}{\\left(\\tau \\right)}} + 1\\right)^{2} \\operatorname{r_{p}}{\\left(\\tau \\right)}} & 0\\\\0 & \\frac{r_{s}}{\\operatorname{r_{p}}{\\left(\\tau \\right)}} - \\frac{2 r_{s} \\left(- \\frac{r_{s}}{2 \\operatorname{r_{p}}{\\left(\\tau \\right)}} + \\frac{1}{2}\\right)^{2}}{\\left(- \\frac{r_{s}}{\\operatorname{r_{p}}{\\left(\\tau \\right)}} + 1\\right)^{2} \\operatorname{r_{p}}{\\left(\\tau \\right)}} & 0 & 0\\\\0 & 0 & 0 & 0\\end{matrix}\\right] & \\left[\\begin{matrix}0 & 0 & 0 & 0\\\\0 & 0 & 0 & - \\frac{r_{s} \\sin^{2}{\\left(\\theta_{p}{\\left(\\tau \\right)} \\right)}}{\\operatorname{r_{p}}{\\left(\\tau \\right)}} + \\frac{2 r_{s} \\left(- \\frac{r_{s}}{2 \\operatorname{r_{p}}{\\left(\\tau \\right)}} + \\frac{1}{2}\\right)^{2} \\sin^{2}{\\left(\\theta_{p}{\\left(\\tau \\right)} \\right)}}{\\left(- \\frac{r_{s}}{\\operatorname{r_{p}}{\\left(\\tau \\right)}} + 1\\right)^{2} \\operatorname{r_{p}}{\\left(\\tau \\right)}}\\\\0 & 0 & 0 & 0\\\\0 & \\frac{r_{s} \\sin^{2}{\\left(\\theta_{p}{\\left(\\tau \\right)} \\right)}}{\\operatorname{r_{p}}{\\left(\\tau \\right)}} - \\frac{2 r_{s} \\left(- \\frac{r_{s}}{2 \\operatorname{r_{p}}{\\left(\\tau \\right)}} + \\frac{1}{2}\\right)^{2} \\sin^{2}{\\left(\\theta_{p}{\\left(\\tau \\right)} \\right)}}{\\left(- \\frac{r_{s}}{\\operatorname{r_{p}}{\\left(\\tau \\right)}} + 1\\right)^{2} \\operatorname{r_{p}}{\\left(\\tau \\right)}} & 0 & 0\\end{matrix}\\right]\\\\\\left[\\begin{matrix}0 & 0 & - \\frac{r_{s} \\left(- \\frac{r_{s}}{2 \\operatorname{r_{p}}{\\left(\\tau \\right)}} + \\frac{1}{2}\\right)}{\\operatorname{r_{p}}^{3}{\\left(\\tau \\right)}} & 0\\\\0 & 0 & 0 & 0\\\\\\frac{r_{s} \\left(- \\frac{r_{s}}{2 \\operatorname{r_{p}}{\\left(\\tau \\right)}} + \\frac{1}{2}\\right)}{\\operatorname{r_{p}}^{3}{\\left(\\tau \\right)}} & 0 & 0 & 0\\\\0 & 0 & 0 & 0\\end{matrix}\\right] & \\left[\\begin{matrix}0 & 0 & 0 & 0\\\\0 & 0 & \\frac{r_{s} \\left(- \\frac{r_{s}}{2 \\operatorname{r_{p}}{\\left(\\tau \\right)}} + \\frac{1}{2}\\right)}{\\left(- \\frac{r_{s}}{\\operatorname{r_{p}}{\\left(\\tau \\right)}} + 1\\right)^{2} \\operatorname{r_{p}}^{3}{\\left(\\tau \\right)}} & 0\\\\0 & - \\frac{r_{s} \\left(- \\frac{r_{s}}{2 \\operatorname{r_{p}}{\\left(\\tau \\right)}} + \\frac{1}{2}\\right)}{\\left(- \\frac{r_{s}}{\\operatorname{r_{p}}{\\left(\\tau \\right)}} + 1\\right)^{2} \\operatorname{r_{p}}^{3}{\\left(\\tau \\right)}} & 0 & 0\\\\0 & 0 & 0 & 0\\end{matrix}\\right] & \\left[\\begin{matrix}0 & 0 & 0 & 0\\\\0 & 0 & 0 & 0\\\\0 & 0 & 0 & 0\\\\0 & 0 & 0 & 0\\end{matrix}\\right] & \\left[\\begin{matrix}0 & 0 & 0 & 0\\\\0 & 0 & 0 & 0\\\\0 & 0 & 0 & - 2 \\left(- \\frac{r_{s}}{2 \\operatorname{r_{p}}{\\left(\\tau \\right)}} + \\frac{1}{2}\\right) \\sin^{2}{\\left(\\theta_{p}{\\left(\\tau \\right)} \\right)} + \\sin^{2}{\\left(\\theta_{p}{\\left(\\tau \\right)} \\right)}\\\\0 & 0 & 2 \\left(- \\frac{r_{s}}{2 \\operatorname{r_{p}}{\\left(\\tau \\right)}} + \\frac{1}{2}\\right) \\sin^{2}{\\left(\\theta_{p}{\\left(\\tau \\right)} \\right)} - \\sin^{2}{\\left(\\theta_{p}{\\left(\\tau \\right)} \\right)} & 0\\end{matrix}\\right]\\\\\\left[\\begin{matrix}0 & 0 & 0 & - \\frac{r_{s} \\left(- \\frac{r_{s}}{2 \\operatorname{r_{p}}{\\left(\\tau \\right)}} + \\frac{1}{2}\\right)}{\\operatorname{r_{p}}^{3}{\\left(\\tau \\right)}}\\\\0 & 0 & 0 & 0\\\\0 & 0 & 0 & 0\\\\\\frac{r_{s} \\left(- \\frac{r_{s}}{2 \\operatorname{r_{p}}{\\left(\\tau \\right)}} + \\frac{1}{2}\\right)}{\\operatorname{r_{p}}^{3}{\\left(\\tau \\right)}} & 0 & 0 & 0\\end{matrix}\\right] & \\left[\\begin{matrix}0 & 0 & 0 & 0\\\\0 & 0 & 0 & \\frac{r_{s} \\left(- \\frac{r_{s}}{2 \\operatorname{r_{p}}{\\left(\\tau \\right)}} + \\frac{1}{2}\\right)}{\\left(- \\frac{r_{s}}{\\operatorname{r_{p}}{\\left(\\tau \\right)}} + 1\\right)^{2} \\operatorname{r_{p}}^{3}{\\left(\\tau \\right)}}\\\\0 & 0 & 0 & 0\\\\0 & - \\frac{r_{s} \\left(- \\frac{r_{s}}{2 \\operatorname{r_{p}}{\\left(\\tau \\right)}} + \\frac{1}{2}\\right)}{\\left(- \\frac{r_{s}}{\\operatorname{r_{p}}{\\left(\\tau \\right)}} + 1\\right)^{2} \\operatorname{r_{p}}^{3}{\\left(\\tau \\right)}} & 0 & 0\\end{matrix}\\right] & \\left[\\begin{matrix}0 & 0 & 0 & 0\\\\0 & 0 & 0 & 0\\\\0 & 0 & 0 & - \\frac{r_{s}}{\\operatorname{r_{p}}{\\left(\\tau \\right)}}\\\\0 & 0 & \\frac{r_{s}}{\\operatorname{r_{p}}{\\left(\\tau \\right)}} & 0\\end{matrix}\\right] & \\left[\\begin{matrix}0 & 0 & 0 & 0\\\\0 & 0 & 0 & 0\\\\0 & 0 & 0 & 0\\\\0 & 0 & 0 & 0\\end{matrix}\\right]\\end{matrix}\\right]$"
      ],
      "text/plain": [
       "[[[[0, 0, 0, 0], [0, 0, 0, 0], [0, 0, 0, 0], [0, 0, 0, 0]], [[0, r_s**2/(4*(r_s/r_p(tau) - 1)**2*r_p(tau)**4) + r_s**2*(-r_s/(2*r_p(tau)) + 1/2)/(2*(-r_s/r_p(tau) + 1)**2*(r_s/r_p(tau) - 1)*r_p(tau)**4) - r_s/((r_s/r_p(tau) - 1)*r_p(tau)**3), 0, 0], [-r_s**2/(4*(r_s/r_p(tau) - 1)**2*r_p(tau)**4) - r_s**2*(-r_s/(2*r_p(tau)) + 1/2)/(2*(-r_s/r_p(tau) + 1)**2*(r_s/r_p(tau) - 1)*r_p(tau)**4) + r_s/((r_s/r_p(tau) - 1)*r_p(tau)**3), 0, 0, 0], [0, 0, 0, 0], [0, 0, 0, 0]], [[0, 0, r_s*(-r_s/(2*r_p(tau)) + 1/2)/((r_s/r_p(tau) - 1)*r_p(tau)), 0], [0, 0, 0, 0], [-r_s*(-r_s/(2*r_p(tau)) + 1/2)/((r_s/r_p(tau) - 1)*r_p(tau)), 0, 0, 0], [0, 0, 0, 0]], [[0, 0, 0, r_s*(-r_s/(2*r_p(tau)) + 1/2)*sin(theta_p(tau))**2/((r_s/r_p(tau) - 1)*r_p(tau))], [0, 0, 0, 0], [0, 0, 0, 0], [-r_s*(-r_s/(2*r_p(tau)) + 1/2)*sin(theta_p(tau))**2/((r_s/r_p(tau) - 1)*r_p(tau)), 0, 0, 0]]], [[[0, -r_s**2*(-r_s/(2*r_p(tau)) + 1/2)/(2*(r_s/r_p(tau) - 1)*r_p(tau)**4) - r_s**2/(2*r_p(tau)**4) + r_s**2*(-r_s/(2*r_p(tau)) + 1/2)**2/((-r_s/r_p(tau) + 1)**2*r_p(tau)**4) + 2*r_s*(-r_s/(2*r_p(tau)) + 1/2)/r_p(tau)**3, 0, 0], [r_s**2*(-r_s/(2*r_p(tau)) + 1/2)/(2*(r_s/r_p(tau) - 1)*r_p(tau)**4) + r_s**2/(2*r_p(tau)**4) - r_s**2*(-r_s/(2*r_p(tau)) + 1/2)**2/((-r_s/r_p(tau) + 1)**2*r_p(tau)**4) - 2*r_s*(-r_s/(2*r_p(tau)) + 1/2)/r_p(tau)**3, 0, 0, 0], [0, 0, 0, 0], [0, 0, 0, 0]], [[0, 0, 0, 0], [0, 0, 0, 0], [0, 0, 0, 0], [0, 0, 0, 0]], [[0, 0, 0, 0], [0, 0, -r_s/r_p(tau) + 2*r_s*(-r_s/(2*r_p(tau)) + 1/2)**2/((-r_s/r_p(tau) + 1)**2*r_p(tau)), 0], [0, r_s/r_p(tau) - 2*r_s*(-r_s/(2*r_p(tau)) + 1/2)**2/((-r_s/r_p(tau) + 1)**2*r_p(tau)), 0, 0], [0, 0, 0, 0]], [[0, 0, 0, 0], [0, 0, 0, -r_s*sin(theta_p(tau))**2/r_p(tau) + 2*r_s*(-r_s/(2*r_p(tau)) + 1/2)**2*sin(theta_p(tau))**2/((-r_s/r_p(tau) + 1)**2*r_p(tau))], [0, 0, 0, 0], [0, r_s*sin(theta_p(tau))**2/r_p(tau) - 2*r_s*(-r_s/(2*r_p(tau)) + 1/2)**2*sin(theta_p(tau))**2/((-r_s/r_p(tau) + 1)**2*r_p(tau)), 0, 0]]], [[[0, 0, -r_s*(-r_s/(2*r_p(tau)) + 1/2)/r_p(tau)**3, 0], [0, 0, 0, 0], [r_s*(-r_s/(2*r_p(tau)) + 1/2)/r_p(tau)**3, 0, 0, 0], [0, 0, 0, 0]], [[0, 0, 0, 0], [0, 0, r_s*(-r_s/(2*r_p(tau)) + 1/2)/((-r_s/r_p(tau) + 1)**2*r_p(tau)**3), 0], [0, -r_s*(-r_s/(2*r_p(tau)) + 1/2)/((-r_s/r_p(tau) + 1)**2*r_p(tau)**3), 0, 0], [0, 0, 0, 0]], [[0, 0, 0, 0], [0, 0, 0, 0], [0, 0, 0, 0], [0, 0, 0, 0]], [[0, 0, 0, 0], [0, 0, 0, 0], [0, 0, 0, -2*(-r_s/(2*r_p(tau)) + 1/2)*sin(theta_p(tau))**2 + sin(theta_p(tau))**2], [0, 0, 2*(-r_s/(2*r_p(tau)) + 1/2)*sin(theta_p(tau))**2 - sin(theta_p(tau))**2, 0]]], [[[0, 0, 0, -r_s*(-r_s/(2*r_p(tau)) + 1/2)/r_p(tau)**3], [0, 0, 0, 0], [0, 0, 0, 0], [r_s*(-r_s/(2*r_p(tau)) + 1/2)/r_p(tau)**3, 0, 0, 0]], [[0, 0, 0, 0], [0, 0, 0, r_s*(-r_s/(2*r_p(tau)) + 1/2)/((-r_s/r_p(tau) + 1)**2*r_p(tau)**3)], [0, 0, 0, 0], [0, -r_s*(-r_s/(2*r_p(tau)) + 1/2)/((-r_s/r_p(tau) + 1)**2*r_p(tau)**3), 0, 0]], [[0, 0, 0, 0], [0, 0, 0, 0], [0, 0, 0, -r_s/r_p(tau)], [0, 0, r_s/r_p(tau), 0]], [[0, 0, 0, 0], [0, 0, 0, 0], [0, 0, 0, 0], [0, 0, 0, 0]]]]"
      ]
     },
     "execution_count": 73,
     "metadata": {},
     "output_type": "execute_result"
    }
   ],
   "source": [
    "Riemann(Schild)"
   ]
  },
  {
   "cell_type": "markdown",
   "id": "0670bd7d-8105-444a-9f4f-c97cf90b5642",
   "metadata": {},
   "source": [
    "Purely covariant Riemann tensor:\n",
    "    \n",
    "$$ R_{\\rho \\sigma \\mu \\nu} = g_{\\rho \\alpha}R^{\\alpha}_{\\sigma \\mu \\nu}$$"
   ]
  },
  {
   "cell_type": "code",
   "execution_count": 17,
   "id": "69484861-77f5-4f43-a599-d88ee4656320",
   "metadata": {
    "tags": []
   },
   "outputs": [],
   "source": [
    "def CovRiemann(T):\n",
    "    G = T['Metric']\n",
    "    N = T['Dimention']\n",
    "    basis = T['Basis']\n",
    "    R = Riemann(T)\n",
    "    RL = smp.MutableDenseNDimArray(smp.zeros(N**4),(N,N,N,N))\n",
    "    for i in range(N):\n",
    "        for j in range(N):\n",
    "            for k in range(N):\n",
    "                for p in range(N):\n",
    "                    for d in range(N):\n",
    "                        RL[i,j,k,p] += G[i,d]*R[d,j,k,p]\n",
    "    return RL"
   ]
  },
  {
   "cell_type": "markdown",
   "id": "a207bec6-03c7-4680-b9de-d6cce2ffe4a4",
   "metadata": {
    "tags": []
   },
   "source": [
    "### The Ricci Tensor\n",
    "\n",
    "$$ R_{\\mu \\nu} = g^{\\alpha \\beta} R_{\\alpha \\mu \\beta \\nu}$$"
   ]
  },
  {
   "cell_type": "code",
   "execution_count": 18,
   "id": "180212ca-a59d-4cf6-844f-be72c72eb60f",
   "metadata": {
    "tags": []
   },
   "outputs": [],
   "source": [
    "def Ricci(T):\n",
    "    G = T['Metric']\n",
    "    N = T['Dimention']\n",
    "    basis = T['Basis']\n",
    "    ig = inv(T)\n",
    "    RL = CovRiemann(T)\n",
    "    Ric = smp.MutableDenseNDimArray(smp.zeros(N**2),(N,N))\n",
    "    for i in range(N):\n",
    "        for j in range(N):\n",
    "            for d in range(N):\n",
    "                for s in range(N):\n",
    "                    Ric[i,j] += ig[d,s]*RL[d,i,s,j]\n",
    "    return Ric"
   ]
  },
  {
   "cell_type": "markdown",
   "id": "b7ceb8f9-de99-401f-9da8-59249ca86a62",
   "metadata": {
    "tags": []
   },
   "source": [
    "### The Ricci Scalar\n",
    "\n",
    "$$ R = g^{\\mu \\nu}R_{\\mu \\nu}$$"
   ]
  },
  {
   "cell_type": "code",
   "execution_count": 97,
   "id": "e71387f4-379e-4612-9e3c-0b59cc4e6873",
   "metadata": {
    "tags": []
   },
   "outputs": [],
   "source": [
    "def RiccScalar(T):\n",
    "    G = T['Metric']\n",
    "    N = T['Dimention']\n",
    "    basis = T['Basis']\n",
    "    R = Ricci(T)\n",
    "    ig = inv(T)\n",
    "    S = float()\n",
    "    for d in range(N):\n",
    "        for s in range(N):\n",
    "            S = ig[d,s]*R[d,s]\n",
    "    return S"
   ]
  },
  {
   "cell_type": "code",
   "execution_count": null,
   "id": "051fd533-0a8c-40a4-882a-7992de38fb34",
   "metadata": {},
   "outputs": [],
   "source": []
  },
  {
   "cell_type": "markdown",
   "id": "72203068-79f7-4d82-9d6e-a34e1db06ad9",
   "metadata": {
    "tags": []
   },
   "source": [
    "### The Curvature Scalar\n",
    "\n",
    "$$ S = g^{\\sigma \\alpha}g^{\\rho \\beta}g^{\\mu \\gamma}g^{\\epsilon \\nu}R_{\\alpha \\beta \\mu \\nu} R_{\\sigma \\rho \\gamma \\epsilon} = R^{\\sigma \\rho \\gamma \\epsilon}R_{\\sigma \\rho \\gamma \\epsilon}$$"
   ]
  },
  {
   "cell_type": "code",
   "execution_count": 94,
   "id": "0920070b-c5c0-413f-b15f-5615c3375ab2",
   "metadata": {
    "tags": []
   },
   "outputs": [],
   "source": [
    "def CurvScalar(T):\n",
    "    G = T['Metric']\n",
    "    N = T['Dimention']\n",
    "    basis = T['Basis']\n",
    "    R = CovRiemann(T)\n",
    "    ig = inv(T)\n",
    "    CS = float()\n",
    "    for i in range(N):\n",
    "        for j in range(N):\n",
    "            for k in range(N):\n",
    "                for p in range(N):\n",
    "                    for d in range(N):\n",
    "                        for n in range(N):\n",
    "                            for s in range(N):\n",
    "                                for t in range(N):\n",
    "                                    CS += ig[i,j]*ig[k,p]*ig[d,n]*ig[s,t]*R[i,k,d,s]*R[j,p,d,s]\n",
    "    return CS"
   ]
  },
  {
   "cell_type": "code",
   "execution_count": 96,
   "id": "9414fa25-138f-49bc-b839-90592c3fd2d6",
   "metadata": {},
   "outputs": [
    {
     "data": {
      "text/latex": [
       "$\\displaystyle \\frac{12 r_{s}^{2}}{\\operatorname{r_{p}}^{6}{\\left(\\tau \\right)}}$"
      ],
      "text/plain": [
       "12*r_s**2/r_p(tau)**6"
      ]
     },
     "execution_count": 96,
     "metadata": {},
     "output_type": "execute_result"
    }
   ],
   "source": [
    "CurvScalar(Schild).simplify()"
   ]
  },
  {
   "cell_type": "code",
   "execution_count": null,
   "id": "3372cf2d-50c1-422c-a92f-ff1b2b99c08d",
   "metadata": {},
   "outputs": [],
   "source": [
    "for i in range(4):\n",
    "    for j in range(4):"
   ]
  },
  {
   "cell_type": "markdown",
   "id": "d25af766-92e0-4108-b6d4-ca955643eee5",
   "metadata": {
    "tags": []
   },
   "source": [
    "### The Geodesic Equation\n",
    "\n",
    "$$ \\frac{d^2x^{\\mu}}{d\\tau^2} + {\\Gamma}^{\\mu}_{\\alpha \\beta} \\frac{dx^{\\alpha}}{d\\tau}\\frac{dx^{\\beta}}{d\\tau} = 0$$"
   ]
  },
  {
   "cell_type": "code",
   "execution_count": 21,
   "id": "7a6ed027-0941-46c7-ba2b-2e44a8da040a",
   "metadata": {},
   "outputs": [],
   "source": [
    "def Geodesic(T):\n",
    "    N = T['Dimention']\n",
    "    basis = T['Basis']\n",
    "    P = T['Basis_Parameter']\n",
    "    C = Gamma(T)\n",
    "    Geo = smp.MutableDenseNDimArray(smp.zeros(N),(N))\n",
    "    for i in range(N):\n",
    "        for j in range(N):\n",
    "            for k in range(N):\n",
    "                Geo[[i]] += smp.Rational(1, N**2)*(smp.diff(basis[i], tau, tau)) + C[i, j, k]*(smp.diff(basis[j], tau))*(smp.diff(basis[k], tau))\n",
    "    \n",
    "    return Geo"
   ]
  },
  {
   "cell_type": "markdown",
   "id": "2ae1fc9a-db49-4398-94c5-f7749b1e9fc2",
   "metadata": {
    "tags": []
   },
   "source": [
    "### The Euler-Lagrange Equation in GR"
   ]
  },
  {
   "cell_type": "markdown",
   "id": "6f5f25a4-6726-4057-b77d-10f85ab436e0",
   "metadata": {},
   "source": [
    "<b> First we define the Lagrangian above:\n",
    "    \n",
    "\n",
    "$$ L = \\sqrt{-g_{\\mu \\nu}\\frac{dx^{\\mu}}{d\\tau}\\frac{dx^{\\nu}}{d\\tau}} $$"
   ]
  },
  {
   "cell_type": "code",
   "execution_count": 22,
   "id": "026c5cce-284f-4b92-95ac-b09322ee02ea",
   "metadata": {},
   "outputs": [],
   "source": [
    "def Lagrangian(T):\n",
    "    G = T['Metric']\n",
    "    N = T['Dimention']\n",
    "    basis = T['Basis']\n",
    "    P = T['Basis_Parameter']\n",
    "    L = float()\n",
    "    for i in range(N):\n",
    "        for j in range(N):\n",
    "            L += - G[i,j]*smp.diff(P[i], tau)*smp.diff(P[j], tau)\n",
    "    \n",
    "    return smp.sqrt(L)"
   ]
  },
  {
   "cell_type": "markdown",
   "id": "39f1b2a9-f3dd-4489-aef5-c776b07fba6c",
   "metadata": {},
   "source": [
    "<b> Second, we define the Euler-Lagrange Equations:\n",
    "    \n",
    "$$ \\frac{\\partial L}{\\partial x^{\\alpha}} - \\frac{d}{d\\tau}\\frac{\\partial L}{\\partial \\frac{\\partial x^{\\alpha}}{\\partial \\tau}}=0$$\n",
    "    \n",
    "Note: To greatly simplify these equations, the code sets the lagrangian equal to 1 in each iteration of calculation. We are allowed to do this because we can arbitrarily set the length of the geodesic equation to be what we like. The path itself is what we are interested in, the length of the path is really just not so important. All we are doing by setting $L=1$ at the end of our calculations is setting the length of our geodesic curve, parametrixzed by $\\tau$ to be $length = 1$ "
   ]
  },
  {
   "cell_type": "code",
   "execution_count": 23,
   "id": "210cde38-1249-41d3-8828-b6609c75a09f",
   "metadata": {},
   "outputs": [],
   "source": [
    "def Euler_Lagrange(L, T):\n",
    "    N = T['Dimention']\n",
    "    basis = T['Basis']\n",
    "    P = T['Basis_Parameter']\n",
    "    \n",
    "    dpdt = smp.MutableDenseNDimArray(smp.zeros(N),(N))\n",
    "    for i in range(N):\n",
    "        dpdt[[i]] = smp.diff(P[i],tau)\n",
    "    \n",
    "    A = smp.MutableDenseNDimArray(smp.zeros(N),(N))\n",
    "    B = smp.MutableDenseNDimArray(smp.zeros(N),(N))\n",
    "    for i in range(N):\n",
    "        B[[i]] = smp.diff(L, dpdt[i])\n",
    "    for i in range(N):\n",
    "        A[[i]] = B[i].subs(L, 1)\n",
    "    \n",
    "    \n",
    "    C = smp.MutableDenseNDimArray(smp.zeros(N),(N))\n",
    "    D = smp.MutableDenseNDimArray(smp.zeros(N),(N))\n",
    "    for i in range(N):\n",
    "        C[[i]] = smp.diff(L, P[i])\n",
    "    for i in range(N):\n",
    "        D[[i]] = C[i].subs(L, 1)\n",
    "    \n",
    "    La = smp.MutableDenseNDimArray(smp.zeros(N),(N))\n",
    "    for i in range(N):\n",
    "            La[[i]] = D[i] - smp.diff(A[i], tau)\n",
    "    \n",
    "    return La"
   ]
  },
  {
   "cell_type": "markdown",
   "id": "2ae89668-0fc5-4fd2-840f-5a1d0208d1da",
   "metadata": {
    "tags": []
   },
   "source": [
    "### The Einstein Field Equations"
   ]
  },
  {
   "cell_type": "code",
   "execution_count": null,
   "id": "eec2de29-3c62-40df-a251-e4fb5602761d",
   "metadata": {},
   "outputs": [],
   "source": []
  },
  {
   "cell_type": "markdown",
   "id": "ffd20423-78b6-4820-8bf1-18137a9a7058",
   "metadata": {
    "tags": []
   },
   "source": [
    "# <center>Calculating the Schwarzschild solution<center>"
   ]
  },
  {
   "cell_type": "code",
   "execution_count": 31,
   "id": "ea95db9b-e096-4091-a1bc-056d0caa0887",
   "metadata": {
    "tags": []
   },
   "outputs": [],
   "source": [
    "eq_1 = Ricci(Sphecally_Symmetric_Metric)[0,0].simplify()\n",
    "eq_2 = Ricci(Sphecally_Symmetric_Metric)[1,1].simplify()\n",
    "eq_3 = Ricci(Sphecally_Symmetric_Metric)[2,2].simplify()\n",
    "eq_4 = Ricci(Sphecally_Symmetric_Metric)[3,3].simplify()"
   ]
  },
  {
   "cell_type": "code",
   "execution_count": 32,
   "id": "79a8e4c6-a30f-4960-8352-882e6d75f19d",
   "metadata": {
    "tags": []
   },
   "outputs": [
    {
     "data": {
      "text/latex": [
       "$\\displaystyle \\frac{\\frac{d^{2}}{d \\operatorname{r_{p}}{\\left(\\tau \\right)}^{2}} A{\\left(\\operatorname{r_{p}}{\\left(\\tau \\right)} \\right)}}{2 B{\\left(\\operatorname{r_{p}}{\\left(\\tau \\right)} \\right)}} + \\frac{\\frac{d}{d \\operatorname{r_{p}}{\\left(\\tau \\right)}} A{\\left(\\operatorname{r_{p}}{\\left(\\tau \\right)} \\right)}}{B{\\left(\\operatorname{r_{p}}{\\left(\\tau \\right)} \\right)} \\operatorname{r_{p}}{\\left(\\tau \\right)}} - \\frac{\\frac{d}{d \\operatorname{r_{p}}{\\left(\\tau \\right)}} A{\\left(\\operatorname{r_{p}}{\\left(\\tau \\right)} \\right)} \\frac{d}{d \\operatorname{r_{p}}{\\left(\\tau \\right)}} B{\\left(\\operatorname{r_{p}}{\\left(\\tau \\right)} \\right)}}{4 B^{2}{\\left(\\operatorname{r_{p}}{\\left(\\tau \\right)} \\right)}} - \\frac{\\left(\\frac{d}{d \\operatorname{r_{p}}{\\left(\\tau \\right)}} A{\\left(\\operatorname{r_{p}}{\\left(\\tau \\right)} \\right)}\\right)^{2}}{4 A{\\left(\\operatorname{r_{p}}{\\left(\\tau \\right)} \\right)} B{\\left(\\operatorname{r_{p}}{\\left(\\tau \\right)} \\right)}}$"
      ],
      "text/plain": [
       "Derivative(A(r_p(tau)), (r_p(tau), 2))/(2*B(r_p(tau))) + Derivative(A(r_p(tau)), r_p(tau))/(B(r_p(tau))*r_p(tau)) - Derivative(A(r_p(tau)), r_p(tau))*Derivative(B(r_p(tau)), r_p(tau))/(4*B(r_p(tau))**2) - Derivative(A(r_p(tau)), r_p(tau))**2/(4*A(r_p(tau))*B(r_p(tau)))"
      ]
     },
     "execution_count": 32,
     "metadata": {},
     "output_type": "execute_result"
    }
   ],
   "source": [
    "eq_1"
   ]
  },
  {
   "cell_type": "code",
   "execution_count": 33,
   "id": "0bcda1ef-e8d9-495c-9ba1-ab12aaaed12a",
   "metadata": {
    "tags": []
   },
   "outputs": [
    {
     "data": {
      "text/latex": [
       "$\\displaystyle \\frac{\\frac{d}{d \\operatorname{r_{p}}{\\left(\\tau \\right)}} B{\\left(\\operatorname{r_{p}}{\\left(\\tau \\right)} \\right)}}{B{\\left(\\operatorname{r_{p}}{\\left(\\tau \\right)} \\right)} \\operatorname{r_{p}}{\\left(\\tau \\right)}} - \\frac{\\frac{d^{2}}{d \\operatorname{r_{p}}{\\left(\\tau \\right)}^{2}} A{\\left(\\operatorname{r_{p}}{\\left(\\tau \\right)} \\right)}}{2 A{\\left(\\operatorname{r_{p}}{\\left(\\tau \\right)} \\right)}} + \\frac{\\frac{d}{d \\operatorname{r_{p}}{\\left(\\tau \\right)}} A{\\left(\\operatorname{r_{p}}{\\left(\\tau \\right)} \\right)} \\frac{d}{d \\operatorname{r_{p}}{\\left(\\tau \\right)}} B{\\left(\\operatorname{r_{p}}{\\left(\\tau \\right)} \\right)}}{4 A{\\left(\\operatorname{r_{p}}{\\left(\\tau \\right)} \\right)} B{\\left(\\operatorname{r_{p}}{\\left(\\tau \\right)} \\right)}} + \\frac{\\left(\\frac{d}{d \\operatorname{r_{p}}{\\left(\\tau \\right)}} A{\\left(\\operatorname{r_{p}}{\\left(\\tau \\right)} \\right)}\\right)^{2}}{4 A^{2}{\\left(\\operatorname{r_{p}}{\\left(\\tau \\right)} \\right)}}$"
      ],
      "text/plain": [
       "Derivative(B(r_p(tau)), r_p(tau))/(B(r_p(tau))*r_p(tau)) - Derivative(A(r_p(tau)), (r_p(tau), 2))/(2*A(r_p(tau))) + Derivative(A(r_p(tau)), r_p(tau))*Derivative(B(r_p(tau)), r_p(tau))/(4*A(r_p(tau))*B(r_p(tau))) + Derivative(A(r_p(tau)), r_p(tau))**2/(4*A(r_p(tau))**2)"
      ]
     },
     "execution_count": 33,
     "metadata": {},
     "output_type": "execute_result"
    }
   ],
   "source": [
    "eq_2"
   ]
  },
  {
   "cell_type": "code",
   "execution_count": 34,
   "id": "2f31a6d9-e74e-4a77-a3a0-b945f7cfcf70",
   "metadata": {
    "tags": []
   },
   "outputs": [
    {
     "data": {
      "text/latex": [
       "$\\displaystyle 1 - \\frac{1}{B{\\left(\\operatorname{r_{p}}{\\left(\\tau \\right)} \\right)}} + \\frac{\\operatorname{r_{p}}{\\left(\\tau \\right)} \\frac{d}{d \\operatorname{r_{p}}{\\left(\\tau \\right)}} B{\\left(\\operatorname{r_{p}}{\\left(\\tau \\right)} \\right)}}{2 B^{2}{\\left(\\operatorname{r_{p}}{\\left(\\tau \\right)} \\right)}} - \\frac{\\operatorname{r_{p}}{\\left(\\tau \\right)} \\frac{d}{d \\operatorname{r_{p}}{\\left(\\tau \\right)}} A{\\left(\\operatorname{r_{p}}{\\left(\\tau \\right)} \\right)}}{2 A{\\left(\\operatorname{r_{p}}{\\left(\\tau \\right)} \\right)} B{\\left(\\operatorname{r_{p}}{\\left(\\tau \\right)} \\right)}}$"
      ],
      "text/plain": [
       "1 - 1/B(r_p(tau)) + r_p(tau)*Derivative(B(r_p(tau)), r_p(tau))/(2*B(r_p(tau))**2) - r_p(tau)*Derivative(A(r_p(tau)), r_p(tau))/(2*A(r_p(tau))*B(r_p(tau)))"
      ]
     },
     "execution_count": 34,
     "metadata": {},
     "output_type": "execute_result"
    }
   ],
   "source": [
    "eq_3"
   ]
  },
  {
   "cell_type": "code",
   "execution_count": 35,
   "id": "277a8e0f-b269-4ce5-8f83-d48b943758ae",
   "metadata": {
    "tags": []
   },
   "outputs": [
    {
     "data": {
      "text/latex": [
       "$\\displaystyle \\sin^{2}{\\left(\\theta_{p}{\\left(\\tau \\right)} \\right)} - \\frac{\\sin^{2}{\\left(\\theta_{p}{\\left(\\tau \\right)} \\right)}}{B{\\left(\\operatorname{r_{p}}{\\left(\\tau \\right)} \\right)}} + \\frac{\\operatorname{r_{p}}{\\left(\\tau \\right)} \\sin^{2}{\\left(\\theta_{p}{\\left(\\tau \\right)} \\right)} \\frac{d}{d \\operatorname{r_{p}}{\\left(\\tau \\right)}} B{\\left(\\operatorname{r_{p}}{\\left(\\tau \\right)} \\right)}}{2 B^{2}{\\left(\\operatorname{r_{p}}{\\left(\\tau \\right)} \\right)}} - \\frac{\\operatorname{r_{p}}{\\left(\\tau \\right)} \\sin^{2}{\\left(\\theta_{p}{\\left(\\tau \\right)} \\right)} \\frac{d}{d \\operatorname{r_{p}}{\\left(\\tau \\right)}} A{\\left(\\operatorname{r_{p}}{\\left(\\tau \\right)} \\right)}}{2 A{\\left(\\operatorname{r_{p}}{\\left(\\tau \\right)} \\right)} B{\\left(\\operatorname{r_{p}}{\\left(\\tau \\right)} \\right)}}$"
      ],
      "text/plain": [
       "sin(theta_p(tau))**2 - sin(theta_p(tau))**2/B(r_p(tau)) + r_p(tau)*sin(theta_p(tau))**2*Derivative(B(r_p(tau)), r_p(tau))/(2*B(r_p(tau))**2) - r_p(tau)*sin(theta_p(tau))**2*Derivative(A(r_p(tau)), r_p(tau))/(2*A(r_p(tau))*B(r_p(tau)))"
      ]
     },
     "execution_count": 35,
     "metadata": {},
     "output_type": "execute_result"
    }
   ],
   "source": [
    "eq_4"
   ]
  },
  {
   "cell_type": "code",
   "execution_count": 36,
   "id": "ce1c515a-3a96-48a3-aee8-29cff4ec5da4",
   "metadata": {
    "tags": []
   },
   "outputs": [],
   "source": [
    "eq_5 = ((eq_1*B + eq_2*A)*(r*B)).simplify()"
   ]
  },
  {
   "cell_type": "code",
   "execution_count": 37,
   "id": "10f48af1-1200-45bf-a9ee-7c9a0936865b",
   "metadata": {
    "tags": []
   },
   "outputs": [
    {
     "ename": "AssertionError",
     "evalue": "",
     "output_type": "error",
     "traceback": [
      "\u001b[0;31m---------------------------------------------------------------------------\u001b[0m",
      "\u001b[0;31mAssertionError\u001b[0m                            Traceback (most recent call last)",
      "\u001b[0;32m/var/folders/1g/_127qcc13ll334lvd9yl9vdc0000gn/T/ipykernel_4773/1099553691.py\u001b[0m in \u001b[0;36m<module>\u001b[0;34m\u001b[0m\n\u001b[0;32m----> 1\u001b[0;31m \u001b[0mA1\u001b[0m \u001b[0;34m=\u001b[0m \u001b[0msmp\u001b[0m\u001b[0;34m.\u001b[0m\u001b[0mdsolve\u001b[0m\u001b[0;34m(\u001b[0m\u001b[0meq_5\u001b[0m\u001b[0;34m,\u001b[0m \u001b[0mB\u001b[0m\u001b[0;34m)\u001b[0m\u001b[0;34m\u001b[0m\u001b[0;34m\u001b[0m\u001b[0m\n\u001b[0m",
      "\u001b[0;32m~/opt/anaconda3/lib/python3.9/site-packages/sympy/solvers/ode/ode.py\u001b[0m in \u001b[0;36mdsolve\u001b[0;34m(eq, func, hint, simplify, ics, xi, eta, x0, n, **kwargs)\u001b[0m\n\u001b[1;32m    602\u001b[0m \u001b[0;34m\u001b[0m\u001b[0m\n\u001b[1;32m    603\u001b[0m         \u001b[0;31m# See the docstring of _desolve for more details.\u001b[0m\u001b[0;34m\u001b[0m\u001b[0;34m\u001b[0m\u001b[0m\n\u001b[0;32m--> 604\u001b[0;31m         hints = _desolve(eq, func=func,\n\u001b[0m\u001b[1;32m    605\u001b[0m             \u001b[0mhint\u001b[0m\u001b[0;34m=\u001b[0m\u001b[0mhint\u001b[0m\u001b[0;34m,\u001b[0m \u001b[0msimplify\u001b[0m\u001b[0;34m=\u001b[0m\u001b[0;32mTrue\u001b[0m\u001b[0;34m,\u001b[0m \u001b[0mxi\u001b[0m\u001b[0;34m=\u001b[0m\u001b[0mxi\u001b[0m\u001b[0;34m,\u001b[0m \u001b[0meta\u001b[0m\u001b[0;34m=\u001b[0m\u001b[0meta\u001b[0m\u001b[0;34m,\u001b[0m \u001b[0mtype\u001b[0m\u001b[0;34m=\u001b[0m\u001b[0;34m'ode'\u001b[0m\u001b[0;34m,\u001b[0m \u001b[0mics\u001b[0m\u001b[0;34m=\u001b[0m\u001b[0mics\u001b[0m\u001b[0;34m,\u001b[0m\u001b[0;34m\u001b[0m\u001b[0;34m\u001b[0m\u001b[0m\n\u001b[1;32m    606\u001b[0m             x0=x0, n=n, **kwargs)\n",
      "\u001b[0;32m~/opt/anaconda3/lib/python3.9/site-packages/sympy/solvers/deutils.py\u001b[0m in \u001b[0;36m_desolve\u001b[0;34m(eq, func, hint, ics, simplify, prep, **kwargs)\u001b[0m\n\u001b[1;32m    207\u001b[0m     \u001b[0;31m# recursive calls.\u001b[0m\u001b[0;34m\u001b[0m\u001b[0;34m\u001b[0m\u001b[0m\n\u001b[1;32m    208\u001b[0m     \u001b[0;32mif\u001b[0m \u001b[0mkwargs\u001b[0m\u001b[0;34m.\u001b[0m\u001b[0mget\u001b[0m\u001b[0;34m(\u001b[0m\u001b[0;34m'classify'\u001b[0m\u001b[0;34m,\u001b[0m \u001b[0;32mTrue\u001b[0m\u001b[0;34m)\u001b[0m\u001b[0;34m:\u001b[0m\u001b[0;34m\u001b[0m\u001b[0;34m\u001b[0m\u001b[0m\n\u001b[0;32m--> 209\u001b[0;31m         hints = classifier(eq, func, dict=True, ics=ics, xi=xi, eta=eta,\n\u001b[0m\u001b[1;32m    210\u001b[0m         n=terms, x0=x0, hint=hint, prep=prep)\n\u001b[1;32m    211\u001b[0m \u001b[0;34m\u001b[0m\u001b[0m\n",
      "\u001b[0;32m~/opt/anaconda3/lib/python3.9/site-packages/sympy/solvers/ode/ode.py\u001b[0m in \u001b[0;36mclassify_ode\u001b[0;34m(eq, func, dict, ics, prep, xi, eta, n, **kwargs)\u001b[0m\n\u001b[1;32m   1016\u001b[0m                 \u001b[0;32mraise\u001b[0m \u001b[0mValueError\u001b[0m\u001b[0;34m(\u001b[0m\u001b[0;34m\"Enter boundary conditions of the form ics={f(point): value, f(x).diff(x, order).subs(x, point): value}\"\u001b[0m\u001b[0;34m)\u001b[0m\u001b[0;34m\u001b[0m\u001b[0;34m\u001b[0m\u001b[0m\n\u001b[1;32m   1017\u001b[0m \u001b[0;34m\u001b[0m\u001b[0m\n\u001b[0;32m-> 1018\u001b[0;31m     \u001b[0mode\u001b[0m \u001b[0;34m=\u001b[0m \u001b[0mSingleODEProblem\u001b[0m\u001b[0;34m(\u001b[0m\u001b[0meq_orig\u001b[0m\u001b[0;34m,\u001b[0m \u001b[0mfunc\u001b[0m\u001b[0;34m,\u001b[0m \u001b[0mx\u001b[0m\u001b[0;34m,\u001b[0m \u001b[0mprep\u001b[0m\u001b[0;34m=\u001b[0m\u001b[0mprep\u001b[0m\u001b[0;34m,\u001b[0m \u001b[0mxi\u001b[0m\u001b[0;34m=\u001b[0m\u001b[0mxi\u001b[0m\u001b[0;34m,\u001b[0m \u001b[0meta\u001b[0m\u001b[0;34m=\u001b[0m\u001b[0meta\u001b[0m\u001b[0;34m)\u001b[0m\u001b[0;34m\u001b[0m\u001b[0;34m\u001b[0m\u001b[0m\n\u001b[0m\u001b[1;32m   1019\u001b[0m     \u001b[0muser_hint\u001b[0m \u001b[0;34m=\u001b[0m \u001b[0mkwargs\u001b[0m\u001b[0;34m.\u001b[0m\u001b[0mget\u001b[0m\u001b[0;34m(\u001b[0m\u001b[0;34m'hint'\u001b[0m\u001b[0;34m,\u001b[0m \u001b[0;34m'default'\u001b[0m\u001b[0;34m)\u001b[0m\u001b[0;34m\u001b[0m\u001b[0;34m\u001b[0m\u001b[0m\n\u001b[1;32m   1020\u001b[0m     \u001b[0;31m# Used when dsolve is called without an explicit hint.\u001b[0m\u001b[0;34m\u001b[0m\u001b[0;34m\u001b[0m\u001b[0m\n",
      "\u001b[0;32m~/opt/anaconda3/lib/python3.9/site-packages/sympy/solvers/ode/single.py\u001b[0m in \u001b[0;36m__init__\u001b[0;34m(self, eq, func, sym, prep, **kwargs)\u001b[0m\n\u001b[1;32m     95\u001b[0m         \u001b[0;32massert\u001b[0m \u001b[0misinstance\u001b[0m\u001b[0;34m(\u001b[0m\u001b[0meq\u001b[0m\u001b[0;34m,\u001b[0m \u001b[0mExpr\u001b[0m\u001b[0;34m)\u001b[0m\u001b[0;34m\u001b[0m\u001b[0;34m\u001b[0m\u001b[0m\n\u001b[1;32m     96\u001b[0m         \u001b[0;32massert\u001b[0m \u001b[0misinstance\u001b[0m\u001b[0;34m(\u001b[0m\u001b[0mfunc\u001b[0m\u001b[0;34m,\u001b[0m \u001b[0mAppliedUndef\u001b[0m\u001b[0;34m)\u001b[0m\u001b[0;34m\u001b[0m\u001b[0;34m\u001b[0m\u001b[0m\n\u001b[0;32m---> 97\u001b[0;31m         \u001b[0;32massert\u001b[0m \u001b[0misinstance\u001b[0m\u001b[0;34m(\u001b[0m\u001b[0msym\u001b[0m\u001b[0;34m,\u001b[0m \u001b[0mSymbol\u001b[0m\u001b[0;34m)\u001b[0m\u001b[0;34m\u001b[0m\u001b[0;34m\u001b[0m\u001b[0m\n\u001b[0m\u001b[1;32m     98\u001b[0m         \u001b[0;32massert\u001b[0m \u001b[0misinstance\u001b[0m\u001b[0;34m(\u001b[0m\u001b[0mprep\u001b[0m\u001b[0;34m,\u001b[0m \u001b[0mbool\u001b[0m\u001b[0;34m)\u001b[0m\u001b[0;34m\u001b[0m\u001b[0;34m\u001b[0m\u001b[0m\n\u001b[1;32m     99\u001b[0m         \u001b[0mself\u001b[0m\u001b[0;34m.\u001b[0m\u001b[0meq\u001b[0m \u001b[0;34m=\u001b[0m \u001b[0meq\u001b[0m\u001b[0;34m\u001b[0m\u001b[0;34m\u001b[0m\u001b[0m\n",
      "\u001b[0;31mAssertionError\u001b[0m: "
     ]
    }
   ],
   "source": [
    "A1 = smp.dsolve(eq_5, B)"
   ]
  },
  {
   "cell_type": "code",
   "execution_count": 38,
   "id": "af894149-2251-4edd-b65b-3569028fb969",
   "metadata": {
    "tags": []
   },
   "outputs": [
    {
     "ename": "NameError",
     "evalue": "name 'A1' is not defined",
     "output_type": "error",
     "traceback": [
      "\u001b[0;31m---------------------------------------------------------------------------\u001b[0m",
      "\u001b[0;31mNameError\u001b[0m                                 Traceback (most recent call last)",
      "\u001b[0;32m/var/folders/1g/_127qcc13ll334lvd9yl9vdc0000gn/T/ipykernel_4773/3644631540.py\u001b[0m in \u001b[0;36m<module>\u001b[0;34m\u001b[0m\n\u001b[0;32m----> 1\u001b[0;31m \u001b[0mA1\u001b[0m\u001b[0;34m\u001b[0m\u001b[0;34m\u001b[0m\u001b[0m\n\u001b[0m",
      "\u001b[0;31mNameError\u001b[0m: name 'A1' is not defined"
     ]
    }
   ],
   "source": [
    "A1"
   ]
  },
  {
   "cell_type": "code",
   "execution_count": 39,
   "id": "ac553baf-5e0d-455b-9050-e057aa46f2a0",
   "metadata": {
    "tags": []
   },
   "outputs": [],
   "source": [
    "eq_6 = eq_3.subs([(B, 1/A)]).simplify()"
   ]
  },
  {
   "cell_type": "code",
   "execution_count": 40,
   "id": "a6b79aea-d5a4-42c1-a427-81bb462a4bc0",
   "metadata": {
    "tags": []
   },
   "outputs": [
    {
     "data": {
      "text/latex": [
       "$\\displaystyle - A{\\left(\\operatorname{r_{p}}{\\left(\\tau \\right)} \\right)} - \\operatorname{r_{p}}{\\left(\\tau \\right)} \\frac{d}{d \\operatorname{r_{p}}{\\left(\\tau \\right)}} A{\\left(\\operatorname{r_{p}}{\\left(\\tau \\right)} \\right)} + 1$"
      ],
      "text/plain": [
       "-A(r_p(tau)) - r_p(tau)*Derivative(A(r_p(tau)), r_p(tau)) + 1"
      ]
     },
     "execution_count": 40,
     "metadata": {},
     "output_type": "execute_result"
    }
   ],
   "source": [
    "eq_6"
   ]
  },
  {
   "cell_type": "code",
   "execution_count": 41,
   "id": "56daf6a7-31b2-4b32-b43d-4c9f4545480d",
   "metadata": {
    "tags": []
   },
   "outputs": [
    {
     "ename": "AssertionError",
     "evalue": "",
     "output_type": "error",
     "traceback": [
      "\u001b[0;31m---------------------------------------------------------------------------\u001b[0m",
      "\u001b[0;31mAssertionError\u001b[0m                            Traceback (most recent call last)",
      "\u001b[0;32m/var/folders/1g/_127qcc13ll334lvd9yl9vdc0000gn/T/ipykernel_4773/3412965000.py\u001b[0m in \u001b[0;36m<module>\u001b[0;34m\u001b[0m\n\u001b[0;32m----> 1\u001b[0;31m \u001b[0mA0\u001b[0m \u001b[0;34m=\u001b[0m \u001b[0msmp\u001b[0m\u001b[0;34m.\u001b[0m\u001b[0mdsolve\u001b[0m\u001b[0;34m(\u001b[0m\u001b[0meq_6\u001b[0m\u001b[0;34m,\u001b[0m \u001b[0mA\u001b[0m\u001b[0;34m)\u001b[0m\u001b[0;34m\u001b[0m\u001b[0;34m\u001b[0m\u001b[0m\n\u001b[0m",
      "\u001b[0;32m~/opt/anaconda3/lib/python3.9/site-packages/sympy/solvers/ode/ode.py\u001b[0m in \u001b[0;36mdsolve\u001b[0;34m(eq, func, hint, simplify, ics, xi, eta, x0, n, **kwargs)\u001b[0m\n\u001b[1;32m    602\u001b[0m \u001b[0;34m\u001b[0m\u001b[0m\n\u001b[1;32m    603\u001b[0m         \u001b[0;31m# See the docstring of _desolve for more details.\u001b[0m\u001b[0;34m\u001b[0m\u001b[0;34m\u001b[0m\u001b[0m\n\u001b[0;32m--> 604\u001b[0;31m         hints = _desolve(eq, func=func,\n\u001b[0m\u001b[1;32m    605\u001b[0m             \u001b[0mhint\u001b[0m\u001b[0;34m=\u001b[0m\u001b[0mhint\u001b[0m\u001b[0;34m,\u001b[0m \u001b[0msimplify\u001b[0m\u001b[0;34m=\u001b[0m\u001b[0;32mTrue\u001b[0m\u001b[0;34m,\u001b[0m \u001b[0mxi\u001b[0m\u001b[0;34m=\u001b[0m\u001b[0mxi\u001b[0m\u001b[0;34m,\u001b[0m \u001b[0meta\u001b[0m\u001b[0;34m=\u001b[0m\u001b[0meta\u001b[0m\u001b[0;34m,\u001b[0m \u001b[0mtype\u001b[0m\u001b[0;34m=\u001b[0m\u001b[0;34m'ode'\u001b[0m\u001b[0;34m,\u001b[0m \u001b[0mics\u001b[0m\u001b[0;34m=\u001b[0m\u001b[0mics\u001b[0m\u001b[0;34m,\u001b[0m\u001b[0;34m\u001b[0m\u001b[0;34m\u001b[0m\u001b[0m\n\u001b[1;32m    606\u001b[0m             x0=x0, n=n, **kwargs)\n",
      "\u001b[0;32m~/opt/anaconda3/lib/python3.9/site-packages/sympy/solvers/deutils.py\u001b[0m in \u001b[0;36m_desolve\u001b[0;34m(eq, func, hint, ics, simplify, prep, **kwargs)\u001b[0m\n\u001b[1;32m    207\u001b[0m     \u001b[0;31m# recursive calls.\u001b[0m\u001b[0;34m\u001b[0m\u001b[0;34m\u001b[0m\u001b[0m\n\u001b[1;32m    208\u001b[0m     \u001b[0;32mif\u001b[0m \u001b[0mkwargs\u001b[0m\u001b[0;34m.\u001b[0m\u001b[0mget\u001b[0m\u001b[0;34m(\u001b[0m\u001b[0;34m'classify'\u001b[0m\u001b[0;34m,\u001b[0m \u001b[0;32mTrue\u001b[0m\u001b[0;34m)\u001b[0m\u001b[0;34m:\u001b[0m\u001b[0;34m\u001b[0m\u001b[0;34m\u001b[0m\u001b[0m\n\u001b[0;32m--> 209\u001b[0;31m         hints = classifier(eq, func, dict=True, ics=ics, xi=xi, eta=eta,\n\u001b[0m\u001b[1;32m    210\u001b[0m         n=terms, x0=x0, hint=hint, prep=prep)\n\u001b[1;32m    211\u001b[0m \u001b[0;34m\u001b[0m\u001b[0m\n",
      "\u001b[0;32m~/opt/anaconda3/lib/python3.9/site-packages/sympy/solvers/ode/ode.py\u001b[0m in \u001b[0;36mclassify_ode\u001b[0;34m(eq, func, dict, ics, prep, xi, eta, n, **kwargs)\u001b[0m\n\u001b[1;32m   1016\u001b[0m                 \u001b[0;32mraise\u001b[0m \u001b[0mValueError\u001b[0m\u001b[0;34m(\u001b[0m\u001b[0;34m\"Enter boundary conditions of the form ics={f(point): value, f(x).diff(x, order).subs(x, point): value}\"\u001b[0m\u001b[0;34m)\u001b[0m\u001b[0;34m\u001b[0m\u001b[0;34m\u001b[0m\u001b[0m\n\u001b[1;32m   1017\u001b[0m \u001b[0;34m\u001b[0m\u001b[0m\n\u001b[0;32m-> 1018\u001b[0;31m     \u001b[0mode\u001b[0m \u001b[0;34m=\u001b[0m \u001b[0mSingleODEProblem\u001b[0m\u001b[0;34m(\u001b[0m\u001b[0meq_orig\u001b[0m\u001b[0;34m,\u001b[0m \u001b[0mfunc\u001b[0m\u001b[0;34m,\u001b[0m \u001b[0mx\u001b[0m\u001b[0;34m,\u001b[0m \u001b[0mprep\u001b[0m\u001b[0;34m=\u001b[0m\u001b[0mprep\u001b[0m\u001b[0;34m,\u001b[0m \u001b[0mxi\u001b[0m\u001b[0;34m=\u001b[0m\u001b[0mxi\u001b[0m\u001b[0;34m,\u001b[0m \u001b[0meta\u001b[0m\u001b[0;34m=\u001b[0m\u001b[0meta\u001b[0m\u001b[0;34m)\u001b[0m\u001b[0;34m\u001b[0m\u001b[0;34m\u001b[0m\u001b[0m\n\u001b[0m\u001b[1;32m   1019\u001b[0m     \u001b[0muser_hint\u001b[0m \u001b[0;34m=\u001b[0m \u001b[0mkwargs\u001b[0m\u001b[0;34m.\u001b[0m\u001b[0mget\u001b[0m\u001b[0;34m(\u001b[0m\u001b[0;34m'hint'\u001b[0m\u001b[0;34m,\u001b[0m \u001b[0;34m'default'\u001b[0m\u001b[0;34m)\u001b[0m\u001b[0;34m\u001b[0m\u001b[0;34m\u001b[0m\u001b[0m\n\u001b[1;32m   1020\u001b[0m     \u001b[0;31m# Used when dsolve is called without an explicit hint.\u001b[0m\u001b[0;34m\u001b[0m\u001b[0;34m\u001b[0m\u001b[0m\n",
      "\u001b[0;32m~/opt/anaconda3/lib/python3.9/site-packages/sympy/solvers/ode/single.py\u001b[0m in \u001b[0;36m__init__\u001b[0;34m(self, eq, func, sym, prep, **kwargs)\u001b[0m\n\u001b[1;32m     95\u001b[0m         \u001b[0;32massert\u001b[0m \u001b[0misinstance\u001b[0m\u001b[0;34m(\u001b[0m\u001b[0meq\u001b[0m\u001b[0;34m,\u001b[0m \u001b[0mExpr\u001b[0m\u001b[0;34m)\u001b[0m\u001b[0;34m\u001b[0m\u001b[0;34m\u001b[0m\u001b[0m\n\u001b[1;32m     96\u001b[0m         \u001b[0;32massert\u001b[0m \u001b[0misinstance\u001b[0m\u001b[0;34m(\u001b[0m\u001b[0mfunc\u001b[0m\u001b[0;34m,\u001b[0m \u001b[0mAppliedUndef\u001b[0m\u001b[0;34m)\u001b[0m\u001b[0;34m\u001b[0m\u001b[0;34m\u001b[0m\u001b[0m\n\u001b[0;32m---> 97\u001b[0;31m         \u001b[0;32massert\u001b[0m \u001b[0misinstance\u001b[0m\u001b[0;34m(\u001b[0m\u001b[0msym\u001b[0m\u001b[0;34m,\u001b[0m \u001b[0mSymbol\u001b[0m\u001b[0;34m)\u001b[0m\u001b[0;34m\u001b[0m\u001b[0;34m\u001b[0m\u001b[0m\n\u001b[0m\u001b[1;32m     98\u001b[0m         \u001b[0;32massert\u001b[0m \u001b[0misinstance\u001b[0m\u001b[0;34m(\u001b[0m\u001b[0mprep\u001b[0m\u001b[0;34m,\u001b[0m \u001b[0mbool\u001b[0m\u001b[0;34m)\u001b[0m\u001b[0;34m\u001b[0m\u001b[0;34m\u001b[0m\u001b[0m\n\u001b[1;32m     99\u001b[0m         \u001b[0mself\u001b[0m\u001b[0;34m.\u001b[0m\u001b[0meq\u001b[0m \u001b[0;34m=\u001b[0m \u001b[0meq\u001b[0m\u001b[0;34m\u001b[0m\u001b[0;34m\u001b[0m\u001b[0m\n",
      "\u001b[0;31mAssertionError\u001b[0m: "
     ]
    }
   ],
   "source": [
    "A0 = smp.dsolve(eq_6, A)"
   ]
  },
  {
   "cell_type": "markdown",
   "id": "76e7169d-ccc8-46fe-95ee-89a95c4ccb4b",
   "metadata": {},
   "source": [
    "Finnaly we have a solution to what we want. We find:\n",
    "\n",
    "$$ A(r) = 1 + \\frac{C_{0}}{r}$$\n",
    "    \n"
   ]
  },
  {
   "cell_type": "code",
   "execution_count": 42,
   "id": "ae47f987-4bfa-45f6-95d8-40c7045b3d79",
   "metadata": {},
   "outputs": [],
   "source": [
    "C = smp.symbols('C')\n",
    "A = 1 + C/r"
   ]
  },
  {
   "cell_type": "code",
   "execution_count": 43,
   "id": "be5e1af0-81ab-4f65-8673-4c0b7b5bc3d6",
   "metadata": {},
   "outputs": [
    {
     "data": {
      "text/latex": [
       "$\\displaystyle 1$"
      ],
      "text/plain": [
       "1"
      ]
     },
     "execution_count": 43,
     "metadata": {},
     "output_type": "execute_result"
    }
   ],
   "source": [
    "smp.limit(A, r, smp.oo)"
   ]
  },
  {
   "cell_type": "markdown",
   "id": "1f1e2dc4-0f38-4673-a19b-483c8f4639b5",
   "metadata": {},
   "source": [
    "This is what we want! As we go infinetly far from the Black Hole, we get to a flat geometry of spacetime."
   ]
  },
  {
   "cell_type": "markdown",
   "id": "857c78ca-0b86-45c0-821b-14d759910766",
   "metadata": {
    "tags": []
   },
   "source": [
    "# <center>Calculating Orbital Equations<center>"
   ]
  },
  {
   "cell_type": "markdown",
   "id": "11336721-db13-4137-9a1a-0aec7bef46d2",
   "metadata": {},
   "source": [
    "In curved spaces, particles follow paths known as geodesics, where massive and massless particles do, of course, have slightly different geodesics. Given we now want to describe moving particles in curved spaces, geodesic equations are indispensable. There are a few different ways the geodesic can be derived, an elegant method is by extremizing the proper time:\n",
    "\n",
    "$$ \\tau_{AB} = \\int^{A}_{B} \\sqrt{-g_{\\mu \\nu}\\frac{dx^{\\mu}}{d\\tau}\\frac{dx^{\\nu}}{d\\tau}} $$\n",
    "\n",
    "A to B is the proper time A\n",
    "elapsed in space-time and we will find it convenient later to make it a unit length.\n",
    "\n",
    "The Lagrangian equation we wish to miimise is given by:"
   ]
  },
  {
   "cell_type": "code",
   "execution_count": 44,
   "id": "9b5b57ea-5532-4db6-bef6-6fc8fa0f20de",
   "metadata": {},
   "outputs": [
    {
     "data": {
      "text/latex": [
       "$\\displaystyle \\sqrt{A{\\left(\\operatorname{r_{p}}{\\left(\\tau \\right)} \\right)} \\left(\\frac{d}{d \\tau} \\operatorname{t_{p}}{\\left(\\tau \\right)}\\right)^{2} - B{\\left(\\operatorname{r_{p}}{\\left(\\tau \\right)} \\right)} \\left(\\frac{d}{d \\tau} \\operatorname{r_{p}}{\\left(\\tau \\right)}\\right)^{2} - \\operatorname{r_{p}}^{2}{\\left(\\tau \\right)} \\sin^{2}{\\left(\\theta_{p}{\\left(\\tau \\right)} \\right)} \\left(\\frac{d}{d \\tau} \\phi_{p}{\\left(\\tau \\right)}\\right)^{2} - \\operatorname{r_{p}}^{2}{\\left(\\tau \\right)} \\left(\\frac{d}{d \\tau} \\theta_{p}{\\left(\\tau \\right)}\\right)^{2}}$"
      ],
      "text/plain": [
       "sqrt(A(r_p(tau))*Derivative(t_p(tau), tau)**2 - B(r_p(tau))*Derivative(r_p(tau), tau)**2 - r_p(tau)**2*sin(theta_p(tau))**2*Derivative(phi_p(tau), tau)**2 - r_p(tau)**2*Derivative(theta_p(tau), tau)**2)"
      ]
     },
     "execution_count": 44,
     "metadata": {},
     "output_type": "execute_result"
    }
   ],
   "source": [
    "L = Lagrangian(Sphecally_Symmetric_Metric)\n",
    "L"
   ]
  },
  {
   "cell_type": "markdown",
   "id": "fafd5d77-dc98-4c32-a114-abb3d9179120",
   "metadata": {},
   "source": [
    "By setting $L=1$ we find an extra equation of motion given by:"
   ]
  },
  {
   "cell_type": "code",
   "execution_count": 45,
   "id": "665ebbc8-f958-4e97-a012-4a47ef5fbba3",
   "metadata": {},
   "outputs": [
    {
     "data": {
      "text/latex": [
       "$\\displaystyle - A{\\left(\\operatorname{r_{p}}{\\left(\\tau \\right)} \\right)} \\left(\\frac{d}{d \\tau} \\operatorname{t_{p}}{\\left(\\tau \\right)}\\right)^{2} + B{\\left(\\operatorname{r_{p}}{\\left(\\tau \\right)} \\right)} \\left(\\frac{d}{d \\tau} \\operatorname{r_{p}}{\\left(\\tau \\right)}\\right)^{2} + \\operatorname{r_{p}}^{2}{\\left(\\tau \\right)} \\sin^{2}{\\left(\\theta_{p}{\\left(\\tau \\right)} \\right)} \\left(\\frac{d}{d \\tau} \\phi_{p}{\\left(\\tau \\right)}\\right)^{2} + \\operatorname{r_{p}}^{2}{\\left(\\tau \\right)} \\left(\\frac{d}{d \\tau} \\theta_{p}{\\left(\\tau \\right)}\\right)^{2} + 1$"
      ],
      "text/plain": [
       "-A(r_p(tau))*Derivative(t_p(tau), tau)**2 + B(r_p(tau))*Derivative(r_p(tau), tau)**2 + r_p(tau)**2*sin(theta_p(tau))**2*Derivative(phi_p(tau), tau)**2 + r_p(tau)**2*Derivative(theta_p(tau), tau)**2 + 1"
      ]
     },
     "execution_count": 45,
     "metadata": {},
     "output_type": "execute_result"
    }
   ],
   "source": [
    "E1 = 1 - Lagrangian(Sphecally_Symmetric_Metric)**2\n",
    "E1"
   ]
  },
  {
   "cell_type": "markdown",
   "id": "0bb3001d-c054-452e-8ac6-631af2f12c71",
   "metadata": {},
   "source": [
    "We now wish to solve the equation of motions, by substituting our lagrangian above into the Euler-Lagrange Equations:\n",
    "\n",
    "$$ \\frac{\\partial L}{\\partial x^{\\alpha}} - \\frac{d}{d\\tau}\\frac{\\partial L}{\\partial \\frac{\\partial x^{\\alpha}}{\\partial \\tau}}=0$$\n",
    "\n",
    "We have a 4-Dimentional spacetime and therefore there will be 4 differential equations:\n",
    "\n",
    "1. The Euler-Lagrange for $t$\n",
    "2. The Euler-Lagrange for $r$\n",
    "3. The Euler-Lagrange for $\\theta$\n",
    "4. The Euler-Lagrange for $\\phi$\n",
    "5. (We also have the extra equation givan above for $L=1$"
   ]
  },
  {
   "cell_type": "code",
   "execution_count": 46,
   "id": "7d453871-b20d-4906-8811-2d000b60b2e2",
   "metadata": {},
   "outputs": [
    {
     "data": {
      "text/latex": [
       "$\\displaystyle - A{\\left(\\operatorname{r_{p}}{\\left(\\tau \\right)} \\right)} \\frac{d^{2}}{d \\tau^{2}} \\operatorname{t_{p}}{\\left(\\tau \\right)} - \\frac{d}{d \\operatorname{r_{p}}{\\left(\\tau \\right)}} A{\\left(\\operatorname{r_{p}}{\\left(\\tau \\right)} \\right)} \\frac{d}{d \\tau} \\operatorname{r_{p}}{\\left(\\tau \\right)} \\frac{d}{d \\tau} \\operatorname{t_{p}}{\\left(\\tau \\right)}$"
      ],
      "text/plain": [
       "-A(r_p(tau))*Derivative(t_p(tau), (tau, 2)) - Derivative(A(r_p(tau)), r_p(tau))*Derivative(r_p(tau), tau)*Derivative(t_p(tau), tau)"
      ]
     },
     "execution_count": 46,
     "metadata": {},
     "output_type": "execute_result"
    }
   ],
   "source": [
    "Et = Euler_Lagrange(L, Sphecally_Symmetric_Metric)[0]\n",
    "Et"
   ]
  },
  {
   "cell_type": "code",
   "execution_count": 47,
   "id": "2eda520a-bd12-46eb-ad69-a992d4fcb406",
   "metadata": {},
   "outputs": [
    {
     "data": {
      "text/latex": [
       "$\\displaystyle B{\\left(\\operatorname{r_{p}}{\\left(\\tau \\right)} \\right)} \\frac{d^{2}}{d \\tau^{2}} \\operatorname{r_{p}}{\\left(\\tau \\right)} - \\operatorname{r_{p}}{\\left(\\tau \\right)} \\sin^{2}{\\left(\\theta_{p}{\\left(\\tau \\right)} \\right)} \\left(\\frac{d}{d \\tau} \\phi_{p}{\\left(\\tau \\right)}\\right)^{2} - \\operatorname{r_{p}}{\\left(\\tau \\right)} \\left(\\frac{d}{d \\tau} \\theta_{p}{\\left(\\tau \\right)}\\right)^{2} + \\frac{\\frac{d}{d \\operatorname{r_{p}}{\\left(\\tau \\right)}} A{\\left(\\operatorname{r_{p}}{\\left(\\tau \\right)} \\right)} \\left(\\frac{d}{d \\tau} \\operatorname{t_{p}}{\\left(\\tau \\right)}\\right)^{2}}{2} + \\frac{\\frac{d}{d \\operatorname{r_{p}}{\\left(\\tau \\right)}} B{\\left(\\operatorname{r_{p}}{\\left(\\tau \\right)} \\right)} \\left(\\frac{d}{d \\tau} \\operatorname{r_{p}}{\\left(\\tau \\right)}\\right)^{2}}{2}$"
      ],
      "text/plain": [
       "B(r_p(tau))*Derivative(r_p(tau), (tau, 2)) - r_p(tau)*sin(theta_p(tau))**2*Derivative(phi_p(tau), tau)**2 - r_p(tau)*Derivative(theta_p(tau), tau)**2 + Derivative(A(r_p(tau)), r_p(tau))*Derivative(t_p(tau), tau)**2/2 + Derivative(B(r_p(tau)), r_p(tau))*Derivative(r_p(tau), tau)**2/2"
      ]
     },
     "execution_count": 47,
     "metadata": {},
     "output_type": "execute_result"
    }
   ],
   "source": [
    "Er = Euler_Lagrange(L, Sphecally_Symmetric_Metric)[1]\n",
    "Er"
   ]
  },
  {
   "cell_type": "code",
   "execution_count": 48,
   "id": "1b68322f-6c6a-4bd3-96e7-34d27b94e48a",
   "metadata": {},
   "outputs": [
    {
     "data": {
      "text/latex": [
       "$\\displaystyle - \\operatorname{r_{p}}^{2}{\\left(\\tau \\right)} \\sin{\\left(\\theta_{p}{\\left(\\tau \\right)} \\right)} \\cos{\\left(\\theta_{p}{\\left(\\tau \\right)} \\right)} \\left(\\frac{d}{d \\tau} \\phi_{p}{\\left(\\tau \\right)}\\right)^{2} + \\operatorname{r_{p}}^{2}{\\left(\\tau \\right)} \\frac{d^{2}}{d \\tau^{2}} \\theta_{p}{\\left(\\tau \\right)} + 2 \\operatorname{r_{p}}{\\left(\\tau \\right)} \\frac{d}{d \\tau} \\operatorname{r_{p}}{\\left(\\tau \\right)} \\frac{d}{d \\tau} \\theta_{p}{\\left(\\tau \\right)}$"
      ],
      "text/plain": [
       "-r_p(tau)**2*sin(theta_p(tau))*cos(theta_p(tau))*Derivative(phi_p(tau), tau)**2 + r_p(tau)**2*Derivative(theta_p(tau), (tau, 2)) + 2*r_p(tau)*Derivative(r_p(tau), tau)*Derivative(theta_p(tau), tau)"
      ]
     },
     "execution_count": 48,
     "metadata": {},
     "output_type": "execute_result"
    }
   ],
   "source": [
    "Etheta = Euler_Lagrange(L, Sphecally_Symmetric_Metric)[2]\n",
    "Etheta"
   ]
  },
  {
   "cell_type": "code",
   "execution_count": 49,
   "id": "00f09756-4db1-4c61-9521-06e5245edf9c",
   "metadata": {},
   "outputs": [
    {
     "data": {
      "text/latex": [
       "$\\displaystyle \\operatorname{r_{p}}^{2}{\\left(\\tau \\right)} \\sin^{2}{\\left(\\theta_{p}{\\left(\\tau \\right)} \\right)} \\frac{d^{2}}{d \\tau^{2}} \\phi_{p}{\\left(\\tau \\right)} + 2 \\operatorname{r_{p}}^{2}{\\left(\\tau \\right)} \\sin{\\left(\\theta_{p}{\\left(\\tau \\right)} \\right)} \\cos{\\left(\\theta_{p}{\\left(\\tau \\right)} \\right)} \\frac{d}{d \\tau} \\phi_{p}{\\left(\\tau \\right)} \\frac{d}{d \\tau} \\theta_{p}{\\left(\\tau \\right)} + 2 \\operatorname{r_{p}}{\\left(\\tau \\right)} \\sin^{2}{\\left(\\theta_{p}{\\left(\\tau \\right)} \\right)} \\frac{d}{d \\tau} \\phi_{p}{\\left(\\tau \\right)} \\frac{d}{d \\tau} \\operatorname{r_{p}}{\\left(\\tau \\right)}$"
      ],
      "text/plain": [
       "r_p(tau)**2*sin(theta_p(tau))**2*Derivative(phi_p(tau), (tau, 2)) + 2*r_p(tau)**2*sin(theta_p(tau))*cos(theta_p(tau))*Derivative(phi_p(tau), tau)*Derivative(theta_p(tau), tau) + 2*r_p(tau)*sin(theta_p(tau))**2*Derivative(phi_p(tau), tau)*Derivative(r_p(tau), tau)"
      ]
     },
     "execution_count": 49,
     "metadata": {},
     "output_type": "execute_result"
    }
   ],
   "source": [
    "Ephi = Euler_Lagrange(L, Sphecally_Symmetric_Metric)[3]\n",
    "Ephi"
   ]
  },
  {
   "cell_type": "markdown",
   "id": "b29ea927-6bcc-4548-9b2e-a36338960edc",
   "metadata": {},
   "source": [
    "Before continue with the maths let’s think about some physics. Firstly, due to conservation of angular momentum, we know planets orbit on fixed planes, this can be seen from the independence of $\\phi$ in our Lagrangian $L$. Because of this, we can set $\\theta$ to a constant of our choice, this choice will represent the angle of the plane which our orbital mechanics are taking place. For simplicity we will choose $\\theta = \\frac{\\pi}{2}$, consequently $sin(\\frac{\\pi}{2}) = 1$ and  $\\frac{d\\theta}{d\\tau}=0$."
   ]
  },
  {
   "cell_type": "code",
   "execution_count": 50,
   "id": "f7eb1988-8795-4cea-bc67-a510d57cea17",
   "metadata": {},
   "outputs": [
    {
     "data": {
      "text/latex": [
       "$\\displaystyle B{\\left(\\operatorname{r_{p}}{\\left(\\tau \\right)} \\right)} \\frac{d^{2}}{d \\tau^{2}} \\operatorname{r_{p}}{\\left(\\tau \\right)} - \\operatorname{r_{p}}{\\left(\\tau \\right)} \\left(\\frac{d}{d \\tau} \\phi_{p}{\\left(\\tau \\right)}\\right)^{2} + \\frac{\\frac{d}{d \\operatorname{r_{p}}{\\left(\\tau \\right)}} A{\\left(\\operatorname{r_{p}}{\\left(\\tau \\right)} \\right)} \\left(\\frac{d}{d \\tau} \\operatorname{t_{p}}{\\left(\\tau \\right)}\\right)^{2}}{2} + \\frac{\\frac{d}{d \\operatorname{r_{p}}{\\left(\\tau \\right)}} B{\\left(\\operatorname{r_{p}}{\\left(\\tau \\right)} \\right)} \\left(\\frac{d}{d \\tau} \\operatorname{r_{p}}{\\left(\\tau \\right)}\\right)^{2}}{2}$"
      ],
      "text/plain": [
       "B(r_p(tau))*Derivative(r_p(tau), (tau, 2)) - r_p(tau)*Derivative(phi_p(tau), tau)**2 + Derivative(A(r_p(tau)), r_p(tau))*Derivative(t_p(tau), tau)**2/2 + Derivative(B(r_p(tau)), r_p(tau))*Derivative(r_p(tau), tau)**2/2"
      ]
     },
     "execution_count": 50,
     "metadata": {},
     "output_type": "execute_result"
    }
   ],
   "source": [
    "Er.subs(theta_p , smp.pi/2).simplify()"
   ]
  },
  {
   "cell_type": "code",
   "execution_count": 51,
   "id": "6e8a4b3d-8507-4bcf-b611-0cb0bc939c84",
   "metadata": {},
   "outputs": [
    {
     "data": {
      "text/latex": [
       "$\\displaystyle 0$"
      ],
      "text/plain": [
       "0"
      ]
     },
     "execution_count": 51,
     "metadata": {},
     "output_type": "execute_result"
    }
   ],
   "source": [
    "Etheta.subs(theta_p , smp.pi/2).simplify()"
   ]
  },
  {
   "cell_type": "code",
   "execution_count": 52,
   "id": "77f7f9b2-ed09-402d-be78-27469d90a273",
   "metadata": {},
   "outputs": [
    {
     "data": {
      "text/latex": [
       "$\\displaystyle \\left(\\operatorname{r_{p}}{\\left(\\tau \\right)} \\frac{d^{2}}{d \\tau^{2}} \\phi_{p}{\\left(\\tau \\right)} + 2 \\frac{d}{d \\tau} \\phi_{p}{\\left(\\tau \\right)} \\frac{d}{d \\tau} \\operatorname{r_{p}}{\\left(\\tau \\right)}\\right) \\operatorname{r_{p}}{\\left(\\tau \\right)}$"
      ],
      "text/plain": [
       "(r_p(tau)*Derivative(phi_p(tau), (tau, 2)) + 2*Derivative(phi_p(tau), tau)*Derivative(r_p(tau), tau))*r_p(tau)"
      ]
     },
     "execution_count": 52,
     "metadata": {},
     "output_type": "execute_result"
    }
   ],
   "source": [
    "Ephi.subs(theta_p , smp.pi/2).simplify()"
   ]
  },
  {
   "cell_type": "code",
   "execution_count": 53,
   "id": "585cb525-858f-4c07-8071-a98dbf8d4550",
   "metadata": {},
   "outputs": [],
   "source": [
    "E2 = E1.subs(theta_p , smp.pi/2).simplify()"
   ]
  },
  {
   "cell_type": "markdown",
   "id": "57634f84-bbaa-4116-a7c9-c1f0d2fc2c54",
   "metadata": {},
   "source": [
    "Let us find an expression for $t(\\tau)$ then substitute it into $E1$"
   ]
  },
  {
   "cell_type": "code",
   "execution_count": 54,
   "id": "a1295afd-31ab-4234-8ef2-9939d950fcbf",
   "metadata": {},
   "outputs": [
    {
     "data": {
      "text/latex": [
       "$\\displaystyle \\operatorname{t_{p}}{\\left(\\tau \\right)} = C_{1} + C_{2} \\int \\frac{1}{A{\\left(\\operatorname{r_{p}}{\\left(\\tau \\right)} \\right)}}\\, d\\tau$"
      ],
      "text/plain": [
       "Eq(t_p(tau), C1 + C2*Integral(1/A(r_p(tau)), tau))"
      ]
     },
     "execution_count": 54,
     "metadata": {},
     "output_type": "execute_result"
    }
   ],
   "source": [
    "St = smp.dsolve(Et, t_p)\n",
    "St"
   ]
  },
  {
   "cell_type": "markdown",
   "id": "b084a81c-8648-4287-ab44-834cccaee939",
   "metadata": {},
   "source": [
    "From this equation we can see that the following differential equation holds:"
   ]
  },
  {
   "cell_type": "code",
   "execution_count": 55,
   "id": "5dc0252e-1a8e-466f-a53b-37330b62623b",
   "metadata": {},
   "outputs": [
    {
     "data": {
      "text/latex": [
       "$\\displaystyle - \\frac{\\alpha}{\\frac{C}{r} + 1} + \\frac{d}{d \\tau} \\operatorname{t_{p}}{\\left(\\tau \\right)}$"
      ],
      "text/plain": [
       "-alpha/(C/r + 1) + Derivative(t_p(tau), tau)"
      ]
     },
     "execution_count": 55,
     "metadata": {},
     "output_type": "execute_result"
    }
   ],
   "source": [
    "smp.diff(t_p, tau) - alpha/A"
   ]
  },
  {
   "cell_type": "markdown",
   "id": "e38b34d1-00f7-4096-a9b3-fb96358f025b",
   "metadata": {},
   "source": [
    "We can substitute this into our new Lagrangian E2:"
   ]
  },
  {
   "cell_type": "code",
   "execution_count": 56,
   "id": "62e33b65-35aa-4cde-82f2-058ed24b6f41",
   "metadata": {},
   "outputs": [
    {
     "data": {
      "text/latex": [
       "$\\displaystyle - \\frac{\\alpha^{2} A{\\left(\\operatorname{r_{p}}{\\left(\\tau \\right)} \\right)}}{\\left(\\frac{C}{r} + 1\\right)^{2}} + B{\\left(\\operatorname{r_{p}}{\\left(\\tau \\right)} \\right)} \\left(\\frac{d}{d \\tau} \\operatorname{r_{p}}{\\left(\\tau \\right)}\\right)^{2} + \\operatorname{r_{p}}^{2}{\\left(\\tau \\right)} \\left(\\frac{d}{d \\tau} \\phi_{p}{\\left(\\tau \\right)}\\right)^{2} + 1$"
      ],
      "text/plain": [
       "-alpha**2*A(r_p(tau))/(C/r + 1)**2 + B(r_p(tau))*Derivative(r_p(tau), tau)**2 + r_p(tau)**2*Derivative(phi_p(tau), tau)**2 + 1"
      ]
     },
     "execution_count": 56,
     "metadata": {},
     "output_type": "execute_result"
    }
   ],
   "source": [
    "E3 = E2.subs(smp.diff(t_p,tau),alpha/A)\n",
    "E3"
   ]
  },
  {
   "cell_type": "markdown",
   "id": "c770eff3-26d8-411a-82dc-d1edbd81553f",
   "metadata": {},
   "source": [
    "All that is left is some substitution for $\\phi$, then we will have an equation of motion for $r$ as a function of some parameter $\\tau$"
   ]
  },
  {
   "cell_type": "code",
   "execution_count": 57,
   "id": "ae83e664-8ea7-4b07-9e1a-739fc6b1beb3",
   "metadata": {},
   "outputs": [
    {
     "data": {
      "text/latex": [
       "$\\displaystyle \\phi_{p}{\\left(\\tau \\right)} = C_{1} + C_{2} \\int \\frac{1}{\\operatorname{r_{p}}^{2}{\\left(\\tau \\right)}}\\, d\\tau$"
      ],
      "text/plain": [
       "Eq(phi_p(tau), C1 + C2*Integral(r_p(tau)**(-2), tau))"
      ]
     },
     "execution_count": 57,
     "metadata": {},
     "output_type": "execute_result"
    }
   ],
   "source": [
    "phi = smp.dsolve(Ephi.subs(theta_p , smp.pi/2).simplify(), phi_p)\n",
    "phi"
   ]
  },
  {
   "cell_type": "markdown",
   "id": "865e28e8-2e53-4570-ba01-7230a89ea6a4",
   "metadata": {},
   "source": [
    "We can simply differentiate this once w.r.t $\\tau$ to find the equation we will substitute into the Lagrangian, now called $E3$"
   ]
  },
  {
   "cell_type": "code",
   "execution_count": 58,
   "id": "8a821065-1c57-46ec-9e53-6843de8342b0",
   "metadata": {},
   "outputs": [
    {
     "data": {
      "text/latex": [
       "$\\displaystyle - \\frac{\\beta}{\\operatorname{r_{p}}^{2}{\\left(\\tau \\right)}} + \\frac{d}{d \\tau} \\phi_{p}{\\left(\\tau \\right)}$"
      ],
      "text/plain": [
       "-beta/r_p(tau)**2 + Derivative(phi_p(tau), tau)"
      ]
     },
     "execution_count": 58,
     "metadata": {},
     "output_type": "execute_result"
    }
   ],
   "source": [
    "smp.diff(phi_p, tau) - beta/(r_p)**2"
   ]
  },
  {
   "cell_type": "code",
   "execution_count": 59,
   "id": "127bdc21-4099-4cd7-b695-eeff93d77a2a",
   "metadata": {},
   "outputs": [
    {
     "data": {
      "text/latex": [
       "$\\displaystyle - \\frac{\\alpha^{2} A{\\left(\\operatorname{r_{p}}{\\left(\\tau \\right)} \\right)}}{\\left(\\frac{C}{r} + 1\\right)^{2}} + \\frac{\\beta^{2}}{\\operatorname{r_{p}}^{2}{\\left(\\tau \\right)}} + B{\\left(\\operatorname{r_{p}}{\\left(\\tau \\right)} \\right)} \\left(\\frac{d}{d \\tau} \\operatorname{r_{p}}{\\left(\\tau \\right)}\\right)^{2} + 1$"
      ],
      "text/plain": [
       "-alpha**2*A(r_p(tau))/(C/r + 1)**2 + beta**2/r_p(tau)**2 + B(r_p(tau))*Derivative(r_p(tau), tau)**2 + 1"
      ]
     },
     "execution_count": 59,
     "metadata": {},
     "output_type": "execute_result"
    }
   ],
   "source": [
    "E4 = E3.subs(smp.diff(phi_p,tau),beta/(r_p)**2)\n",
    "E4"
   ]
  },
  {
   "cell_type": "code",
   "execution_count": 60,
   "id": "1de8efd6-d3ef-4a9e-a766-36cf79b357b9",
   "metadata": {},
   "outputs": [
    {
     "data": {
      "text/latex": [
       "$\\displaystyle - \\frac{\\alpha^{2} r^{2} A{\\left(\\operatorname{r_{p}}{\\left(\\tau \\right)} \\right)}}{2 \\left(C + r\\right)^{2} B{\\left(\\operatorname{r_{p}}{\\left(\\tau \\right)} \\right)}} + \\frac{\\beta^{2}}{2 B{\\left(\\operatorname{r_{p}}{\\left(\\tau \\right)} \\right)} \\operatorname{r_{p}}^{2}{\\left(\\tau \\right)}} + \\frac{\\left(\\frac{d}{d \\tau} \\operatorname{r_{p}}{\\left(\\tau \\right)}\\right)^{2}}{2} + \\frac{1}{2 B{\\left(\\operatorname{r_{p}}{\\left(\\tau \\right)} \\right)}}$"
      ],
      "text/plain": [
       "-alpha**2*r**2*A(r_p(tau))/(2*(C + r)**2*B(r_p(tau))) + beta**2/(2*B(r_p(tau))*r_p(tau)**2) + Derivative(r_p(tau), tau)**2/2 + 1/(2*B(r_p(tau)))"
      ]
     },
     "execution_count": 60,
     "metadata": {},
     "output_type": "execute_result"
    }
   ],
   "source": [
    "(E4/(2*B)).simplify()"
   ]
  },
  {
   "cell_type": "code",
   "execution_count": null,
   "id": "8b9f34b1-dcae-412c-bb6e-9ebda9fc53f5",
   "metadata": {},
   "outputs": [],
   "source": []
  },
  {
   "cell_type": "code",
   "execution_count": 61,
   "id": "b4e536ee-46b0-4375-8b12-d79a4bc08b9b",
   "metadata": {},
   "outputs": [],
   "source": [
    "phi, M, l, eta = smp.symbols('phi M l eta')\n",
    "y = smp.Function('y')\n",
    "y = y(phi)"
   ]
  },
  {
   "cell_type": "code",
   "execution_count": 62,
   "id": "e932feaa-6123-45f5-a7aa-880c0f7ffb8c",
   "metadata": {},
   "outputs": [],
   "source": [
    "DE = smp.diff(y, phi, phi) + y - M/(l**2) - ((y**2)*eta*l**2)/M"
   ]
  },
  {
   "cell_type": "code",
   "execution_count": 63,
   "id": "7a501d34-13fd-4d5a-b03d-9b29c23951e1",
   "metadata": {},
   "outputs": [],
   "source": [
    "DE1 = smp.diff(y, phi, phi) + y - M/(l**2)"
   ]
  },
  {
   "cell_type": "code",
   "execution_count": 64,
   "id": "0c9b33bc-6be8-494b-85bb-611cf11cd34b",
   "metadata": {
    "tags": []
   },
   "outputs": [
    {
     "data": {
      "text/latex": [
       "$\\displaystyle - \\frac{M}{l^{2}} + y{\\left(\\phi \\right)} + \\frac{d^{2}}{d \\phi^{2}} y{\\left(\\phi \\right)}$"
      ],
      "text/plain": [
       "-M/l**2 + y(phi) + Derivative(y(phi), (phi, 2))"
      ]
     },
     "execution_count": 64,
     "metadata": {},
     "output_type": "execute_result"
    }
   ],
   "source": [
    "DE1"
   ]
  },
  {
   "cell_type": "code",
   "execution_count": 65,
   "id": "c52cdbcf-e694-4f35-9549-a5e9b329fdd0",
   "metadata": {},
   "outputs": [
    {
     "data": {
      "text/latex": [
       "$\\displaystyle y{\\left(\\phi \\right)} = C_{1} \\sin{\\left(\\phi \\right)} + C_{2} \\cos{\\left(\\phi \\right)} + \\frac{M}{l^{2}}$"
      ],
      "text/plain": [
       "Eq(y(phi), C1*sin(phi) + C2*cos(phi) + M/l**2)"
      ]
     },
     "execution_count": 65,
     "metadata": {},
     "output_type": "execute_result"
    }
   ],
   "source": [
    "smp.dsolve(DE1, y, x0 = 0, n=0)"
   ]
  },
  {
   "cell_type": "code",
   "execution_count": 66,
   "id": "d346d828-4033-4329-ae11-cbc267e652c9",
   "metadata": {},
   "outputs": [
    {
     "data": {
      "text/latex": [
       "$\\displaystyle y{\\left(\\phi \\right)} = C_{1} \\sin{\\left(\\phi \\right)} + C_{2} \\cos{\\left(\\phi \\right)} + \\frac{M}{l^{2}}$"
      ],
      "text/plain": [
       "Eq(y(phi), C1*sin(phi) + C2*cos(phi) + M/l**2)"
      ]
     },
     "execution_count": 66,
     "metadata": {},
     "output_type": "execute_result"
    }
   ],
   "source": [
    "smp.dsolve(DE1, y)"
   ]
  },
  {
   "cell_type": "code",
   "execution_count": 67,
   "id": "30e750ac-9aa5-43eb-9bf1-ab83c7695a21",
   "metadata": {},
   "outputs": [
    {
     "data": {
      "text/latex": [
       "$\\displaystyle y{\\left(\\phi \\right)}$"
      ],
      "text/plain": [
       "y(phi)"
      ]
     },
     "execution_count": 67,
     "metadata": {},
     "output_type": "execute_result"
    }
   ],
   "source": [
    "y.series(y, 0, 3)"
   ]
  },
  {
   "cell_type": "code",
   "execution_count": 68,
   "id": "e934b510-5ee8-41b4-bcb4-e8eedcfb8268",
   "metadata": {},
   "outputs": [],
   "source": [
    "ep = smp.symbols('alpha')\n",
    "y_0, y_1, y_2, y_3 = smp.symbols('y_0 y_1 y_2 y_3', cls = smp.Function)\n",
    "y_0 = y_0(phi)\n",
    "y_1 = y_1(phi)\n",
    "y_2 = y_2(phi)\n",
    "y_3 = y_3(phi)\n",
    "sy = y_0 + ep*y_1 + ep**2*y_2"
   ]
  },
  {
   "cell_type": "code",
   "execution_count": 69,
   "id": "d7cd45fb-3cc9-4936-9a4d-0615d8d88331",
   "metadata": {},
   "outputs": [
    {
     "data": {
      "text/latex": [
       "$\\displaystyle - \\frac{M}{l^{2}} + \\alpha^{2} \\operatorname{y_{2}}{\\left(\\phi \\right)} + \\alpha^{2} \\frac{d^{2}}{d \\phi^{2}} \\operatorname{y_{2}}{\\left(\\phi \\right)} + \\alpha \\operatorname{y_{1}}{\\left(\\phi \\right)} + \\alpha \\frac{d^{2}}{d \\phi^{2}} \\operatorname{y_{1}}{\\left(\\phi \\right)} + \\operatorname{y_{0}}{\\left(\\phi \\right)} + \\frac{d^{2}}{d \\phi^{2}} \\operatorname{y_{0}}{\\left(\\phi \\right)} - \\frac{\\eta l^{2} \\left(\\alpha^{2} \\operatorname{y_{2}}{\\left(\\phi \\right)} + \\alpha \\operatorname{y_{1}}{\\left(\\phi \\right)} + \\operatorname{y_{0}}{\\left(\\phi \\right)}\\right)^{2}}{M}$"
      ],
      "text/plain": [
       "-M/l**2 + alpha**2*y_2(phi) + alpha**2*Derivative(y_2(phi), (phi, 2)) + alpha*y_1(phi) + alpha*Derivative(y_1(phi), (phi, 2)) + y_0(phi) + Derivative(y_0(phi), (phi, 2)) - eta*l**2*(alpha**2*y_2(phi) + alpha*y_1(phi) + y_0(phi))**2/M"
      ]
     },
     "execution_count": 69,
     "metadata": {},
     "output_type": "execute_result"
    }
   ],
   "source": [
    "DE.subs(y, sy).simplify()"
   ]
  },
  {
   "cell_type": "code",
   "execution_count": 78,
   "id": "2f4dc14e-7576-4e76-a06b-1b0ce7aa8d4e",
   "metadata": {},
   "outputs": [],
   "source": [
    "x = smp.symbols('x')\n",
    "y = smp.symbols('y', cls = smp.Function)\n",
    "y = y(x)"
   ]
  },
  {
   "cell_type": "code",
   "execution_count": 82,
   "id": "59e25ccf-da99-4edc-98fb-ca330318ab54",
   "metadata": {},
   "outputs": [],
   "source": [
    "y = smp.sin(x**10)"
   ]
  },
  {
   "cell_type": "code",
   "execution_count": 83,
   "id": "b6bb1ab0-d203-4d0b-a896-ce646a63bc41",
   "metadata": {},
   "outputs": [
    {
     "data": {
      "text/latex": [
       "$\\displaystyle \\sin{\\left(x^{10} \\right)}$"
      ],
      "text/plain": [
       "sin(x**10)"
      ]
     },
     "execution_count": 83,
     "metadata": {},
     "output_type": "execute_result"
    }
   ],
   "source": [
    "y"
   ]
  },
  {
   "cell_type": "code",
   "execution_count": 86,
   "id": "1baed966-1d4b-48d7-a56e-6af9ab4bbae0",
   "metadata": {},
   "outputs": [
    {
     "data": {
      "text/latex": [
       "$\\displaystyle 10 x^{9} \\cos{\\left(x^{10} \\right)}$"
      ],
      "text/plain": [
       "10*x**9*cos(x**10)"
      ]
     },
     "execution_count": 86,
     "metadata": {},
     "output_type": "execute_result"
    }
   ],
   "source": [
    "b = smp.diff(y, x)\n",
    "b"
   ]
  },
  {
   "cell_type": "code",
   "execution_count": 93,
   "id": "88a2dfa6-50c3-4c40-9e98-77822f0dd5dd",
   "metadata": {},
   "outputs": [
    {
     "data": {
      "text/latex": [
       "$\\displaystyle 10000000000 \\cos{\\left(10000000000 \\right)}$"
      ],
      "text/plain": [
       "10000000000*cos(10000000000)"
      ]
     },
     "execution_count": 93,
     "metadata": {},
     "output_type": "execute_result"
    }
   ],
   "source": [
    "b.subs(x, 10)"
   ]
  },
  {
   "cell_type": "code",
   "execution_count": null,
   "id": "b381e3d5-c66e-42c3-b9e1-1bf28d3d2a0b",
   "metadata": {},
   "outputs": [],
   "source": [
    "smp.e"
   ]
  }
 ],
 "metadata": {
  "kernelspec": {
   "display_name": "Python 3 (ipykernel)",
   "language": "python",
   "name": "python3"
  },
  "language_info": {
   "codemirror_mode": {
    "name": "ipython",
    "version": 3
   },
   "file_extension": ".py",
   "mimetype": "text/x-python",
   "name": "python",
   "nbconvert_exporter": "python",
   "pygments_lexer": "ipython3",
   "version": "3.9.7"
  }
 },
 "nbformat": 4,
 "nbformat_minor": 5
}
