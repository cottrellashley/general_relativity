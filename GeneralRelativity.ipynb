{
 "cells": [
  {
   "cell_type": "code",
   "execution_count": 1,
   "id": "ce0efe56-3add-455c-a750-c9398fd358a8",
   "metadata": {},
   "outputs": [],
   "source": [
    "import sympy as smp\n",
    "import numpy as np\n",
    "import scipy as sp\n",
    "import scipy.integrate as integrate\n",
    "import matplotlib.pyplot as plt\n",
    "from matplotlib import animation\n",
    "from mpl_toolkits.mplot3d import Axes3D\n",
    "from matplotlib.animation import PillowWriter"
   ]
  },
  {
   "cell_type": "code",
   "execution_count": 2,
   "id": "738e2d20-95fd-43ce-a126-7d54565d35ab",
   "metadata": {},
   "outputs": [],
   "source": [
    "# smp.eye()\n",
    "# smp.Array([])\n",
    "# smp.tensorproduct(Tensor 1, Tensor 2)\n",
    "# smp.tensorcontraction(Tensor, (first index, second index))"
   ]
  },
  {
   "cell_type": "markdown",
   "id": "4dace6cf-5467-4c38-aca5-38c096c29262",
   "metadata": {
    "tags": []
   },
   "source": [
    "# <center>Defining Metrics Tensors, Energy-Momentum Tensors and Variables<center>"
   ]
  },
  {
   "cell_type": "markdown",
   "id": "3fe30769-fb09-4877-bfe1-71b1420e8189",
   "metadata": {
    "tags": []
   },
   "source": [
    "## The Variables"
   ]
  },
  {
   "cell_type": "code",
   "execution_count": 3,
   "id": "ea77f6d4-054c-4435-b7d0-ff895a30430c",
   "metadata": {},
   "outputs": [],
   "source": [
    "m, sigma, C_0, alpha, beta, r_s, M, t, r, theta, phi, tau, x, y, z, l, E = smp.symbols('m sigma C_0 alpha beta r_s M t r theta phi tau x y z l E', float = True)"
   ]
  },
  {
   "cell_type": "markdown",
   "id": "12ede966-17ab-49ff-8f06-b1e8e6959355",
   "metadata": {
    "tags": []
   },
   "source": [
    "## The Metric Tensors"
   ]
  },
  {
   "cell_type": "markdown",
   "id": "9179fb0d-8f30-4c0e-872a-80c696d33ed8",
   "metadata": {
    "tags": []
   },
   "source": [
    "#### A General Spherically Symmetric Metric"
   ]
  },
  {
   "cell_type": "code",
   "execution_count": 4,
   "id": "1404ab63-50ee-449f-b76b-fe5faf98ca30",
   "metadata": {},
   "outputs": [],
   "source": [
    "A , B = smp.symbols('A B', cls = smp.Function)\n",
    "A = A(r)\n",
    "B = B(r)\n",
    "\n",
    "\n",
    "Sphecally_Symmetric_Metric = { 'Metric' : smp.MutableDenseNDimArray([[-A,0,0,0],\n",
    "                                                                     [0,B,0,0],\n",
    "                                                                     [0,0,r**2,0],\n",
    "                                                                     [0,0,0,r**2*smp.sin(theta)**2]]),\n",
    "                              \n",
    "                              'Basis' : smp.Array([t,r,theta,phi]),\n",
    "                              \n",
    "                              'Dimention' : 4,\n",
    "                              \n",
    "                              'Basis_Parameter' : smp.MutableDenseNDimArray([t, r, theta, phi])}"
   ]
  },
  {
   "cell_type": "markdown",
   "id": "e3f10f4a-a052-4885-a0c0-ef749fd73dd4",
   "metadata": {
    "tags": []
   },
   "source": [
    "# <center>Functions of the Objects from Differential Geometry<center>\n",
    "\n",
    "In general relativity, either:\n",
    "\n",
    "1. We know the metric to begin with. (From which we can calculate anything we like with it using the functions bellow.)\n",
    "\n",
    "2. We do not know the metric, but wish to find it. (In which case we must solve Einsteins equations using the functions bellow.)"
   ]
  },
  {
   "cell_type": "markdown",
   "id": "30ab3f8b-051e-4c40-8f2b-793c8cce092b",
   "metadata": {
    "tags": []
   },
   "source": [
    "### Derivative of Rank-2 Tensor\n",
    "\n",
    "$$\\partial_{\\mu} g_{\\nu \\beta}$$"
   ]
  },
  {
   "cell_type": "code",
   "execution_count": 5,
   "id": "80dfcc79-5332-4cc3-8e0c-d9921d7260fb",
   "metadata": {
    "tags": []
   },
   "outputs": [],
   "source": [
    "def Derivative(T):\n",
    "    G = T['Metric']\n",
    "    N = T['Dimention']\n",
    "    basis = T['Basis']\n",
    "    A = smp.MutableDenseNDimArray(smp.zeros(N**3),(N,N,N))\n",
    "    for i in range(N):\n",
    "        for j in range(N):\n",
    "            for k in range(N):\n",
    "                A[i,j,k] = smp.diff(G[j,k],basis[i])\n",
    "    return A"
   ]
  },
  {
   "cell_type": "markdown",
   "id": "df0d5681-6816-4d93-85aa-d0bddf4d1b3c",
   "metadata": {
    "tags": []
   },
   "source": [
    "### Inverse of Rank-2 Tensor\n",
    "\n",
    "$$ g^{\\nu \\beta} = (g^{-1})_{\\nu \\beta}$$"
   ]
  },
  {
   "cell_type": "code",
   "execution_count": 6,
   "id": "1d63d408-19d0-4995-9f7b-e5bb63d229f2",
   "metadata": {
    "tags": []
   },
   "outputs": [],
   "source": [
    "def inv(T):\n",
    "    G = T['Metric']\n",
    "    N = T['Dimention']\n",
    "    basis = T['Basis']\n",
    "    g_m = G.tomatrix()\n",
    "    inv_g = g_m.inv()\n",
    "    A = smp.MutableDenseNDimArray(smp.zeros(N**2),(N,N))\n",
    "    for i in range(N):\n",
    "        for j in range(N):\n",
    "            A[i,j] = inv_g[i, j]\n",
    "    return A"
   ]
  },
  {
   "cell_type": "markdown",
   "id": "a0a9eecc-4d86-4ed8-a9e3-90991ca37ddb",
   "metadata": {
    "tags": []
   },
   "source": [
    "### The Christoffel Symbols\n",
    "\n",
    "$$ \\Gamma^{\\alpha}_{\\mu \\nu} = \\frac{1}{2} g^{\\alpha \\beta} \\left( \\partial_{\\mu} g_{\\nu \\beta} + \\partial_{\\nu} g_{\\mu \\beta} - \\partial_{\\beta} g_{\\mu \\nu} \\right) $$"
   ]
  },
  {
   "cell_type": "code",
   "execution_count": 7,
   "id": "ee804d7e-2ee9-4abc-9ccd-35308ec39700",
   "metadata": {
    "tags": []
   },
   "outputs": [],
   "source": [
    "def Gamma(T):\n",
    "    G = T['Metric']\n",
    "    N = T['Dimention']\n",
    "    basis = T['Basis']\n",
    "    A1 = smp.MutableDenseNDimArray(smp.zeros(N**3),(N,N,N))\n",
    "    ig = inv(T)\n",
    "    for i in range(N):\n",
    "        for j in range(N):\n",
    "            for k in range(N):\n",
    "                for d in range(N):\n",
    "                    A1[i, j, k] += smp.Rational(1, 2)*(ig[d,i])*(smp.diff(G[k,d],basis[j]) + smp.diff(G[d,j],basis[k]) - smp.diff(G[j,k],basis[d]))\n",
    "            \n",
    "    \n",
    "    return A1"
   ]
  },
  {
   "cell_type": "markdown",
   "id": "c2b0137b-12db-42b5-b883-b252f036f00b",
   "metadata": {
    "tags": []
   },
   "source": [
    "### The Covarient Derivatives"
   ]
  },
  {
   "cell_type": "markdown",
   "id": "b299950f-a86d-4277-8063-5b088fad60c8",
   "metadata": {},
   "source": [
    "Acting on: The Contravariant (1,0) Tensor (Vector) Field \n",
    "\n",
    "$$D_{\\mu}V^{\\nu} = {\\partial}_{\\mu}V^{\\nu} + {\\Gamma}^{\\nu}_{\\mu \\alpha}V^{\\alpha}$$"
   ]
  },
  {
   "cell_type": "code",
   "execution_count": 8,
   "id": "2c99f33e-a995-4286-82b8-ff0f82f6b910",
   "metadata": {},
   "outputs": [],
   "source": [
    "def CovariantD10(T, V):\n",
    "    N = T['Dimention']\n",
    "    basis = T['Basis']\n",
    "    C = Gamma(T)\n",
    "    DV = smp.MutableDenseNDimArray(smp.zeros(N**2),(N,N))\n",
    "    for i in range(N):\n",
    "        for j in range(N):\n",
    "            for k in range(N):\n",
    "                DV[i,j] += smp.Rational(1, N)*smp.diff(V[j],basis[i]) + C[j,i,k]*V[k]\n",
    "    return DV"
   ]
  },
  {
   "cell_type": "markdown",
   "id": "e4706013-ca41-477f-ae0f-6c3a0d6516bb",
   "metadata": {},
   "source": [
    "Acting on: The Covariant (0,1) Tensor (Vector) Field\n",
    "\n",
    "$$D_{\\mu}V_{\\nu} = {\\partial}_{\\mu}V_{\\nu} - {\\Gamma}^{\\alpha}_{\\mu \\nu}V_{\\alpha}$$"
   ]
  },
  {
   "cell_type": "code",
   "execution_count": 9,
   "id": "0e4a842d-fe07-4f22-861c-8ce0c9cd2857",
   "metadata": {},
   "outputs": [],
   "source": [
    "def CovariantD01(T, V):\n",
    "    N = T['Dimention']\n",
    "    basis = T['Basis']\n",
    "    C = Gamma(T)\n",
    "    DV = smp.MutableDenseNDimArray(smp.zeros(N**2),(N,N))\n",
    "    for i in range(N):\n",
    "        for j in range(N):\n",
    "            for k in range(N):\n",
    "                DV[i,j] += smp.Rational(1, N)*smp.diff(V[j],basis[i]) - C[k,i,j]*V[k]\n",
    "    return DV"
   ]
  },
  {
   "cell_type": "markdown",
   "id": "cc399325-1af1-468a-8082-c3089da1df0a",
   "metadata": {},
   "source": [
    "Acting on: Type (2,0) Tensor Field\n",
    "\n",
    "$$D_{\\alpha}T^{\\mu \\nu} = {\\partial}_{\\alpha}T^{\\mu \\nu} + {\\Gamma}^{\\mu}_{\\alpha \\gamma}T^{\\gamma \\nu} + {\\Gamma}^{\\nu}_{\\alpha \\gamma}T^{\\gamma \\mu}$$"
   ]
  },
  {
   "cell_type": "code",
   "execution_count": 10,
   "id": "62ccf500-496b-4dd8-af2b-a0b6b5d61794",
   "metadata": {},
   "outputs": [],
   "source": [
    "def CovariantD20(G, T):\n",
    "    N = G['Dimention']\n",
    "    basis = G['Basis']\n",
    "    C = Gamma(G)\n",
    "    DT = smp.MutableDenseNDimArray(smp.zeros(N**3),(N,N,N))\n",
    "    for i in range(N):\n",
    "        for j in range(N):\n",
    "            for k in range(N):\n",
    "                for p in range(N):\n",
    "                    DT[i,j,k] += smp.Rational(1, N)*smp.diff(T[j,k],basis[i]) + C[j,i,p]*T[p,k] + C[k,i,p]*T[p,j]\n",
    "    return DT"
   ]
  },
  {
   "cell_type": "markdown",
   "id": "5baab5a0-f8c7-450c-b002-56fbce5d4a78",
   "metadata": {},
   "source": [
    "Acting on: Type (0,2) Tensor Field\n",
    "\n",
    "$$D_{\\alpha}T_{\\mu \\nu} = {\\partial}_{\\alpha}T_{\\mu \\nu} - {\\Gamma}^{\\gamma}_{\\alpha \\mu}T_{\\gamma \\nu} - {\\Gamma}^{\\gamma}_{\\alpha \\nu}T_{\\gamma \\mu}$$"
   ]
  },
  {
   "cell_type": "code",
   "execution_count": 11,
   "id": "003c4f0e-912b-4eb4-bcdb-bc1487a74180",
   "metadata": {},
   "outputs": [],
   "source": [
    "def CovariantD02(G, T):\n",
    "    N = G['Dimention']\n",
    "    basis = G['Basis']\n",
    "    C = Gamma(G)\n",
    "    DT = smp.MutableDenseNDimArray(smp.zeros(N**3),(N,N,N))\n",
    "    for i in range(N):\n",
    "        for j in range(N):\n",
    "            for k in range(N):\n",
    "                for p in range(N):\n",
    "                    DT[i,j,k] += smp.Rational(1, N)*smp.diff(T[j,k],basis[i]) - C[p,i,j]*T[p,k] - C[p,i,k]*T[p,j]\n",
    "    return DT"
   ]
  },
  {
   "cell_type": "markdown",
   "id": "071b7886-3551-4630-a8b0-ca3fdcbd8506",
   "metadata": {},
   "source": [
    "Acting on: Type (1,1) Tensor Field\n",
    "\n",
    "$$D_{\\alpha}T^{\\mu}_{\\nu} = {\\partial}_{\\alpha}T^{\\mu}_{\\nu} + {\\Gamma}^{\\mu}_{\\alpha \\gamma}T^{\\gamma}_{\\nu} - {\\Gamma}^{\\gamma}_{\\alpha \\nu}T^{\\mu}_{\\gamma}$$"
   ]
  },
  {
   "cell_type": "code",
   "execution_count": 12,
   "id": "ed8e8d99-bbc5-4a99-9e4d-5292ff8bcf71",
   "metadata": {},
   "outputs": [],
   "source": [
    "def CovariantD11(G, T):\n",
    "    N = G['Dimention']\n",
    "    basis = G['Basis']\n",
    "    C = Gamma(G)\n",
    "    DT = smp.MutableDenseNDimArray(smp.zeros(N**3),(N,N,N))\n",
    "    for i in range(N):\n",
    "        for j in range(N):\n",
    "            for k in range(N):\n",
    "                for p in range(N):\n",
    "                    DT[i,j,k] += smp.Rational(1, N)*smp.diff(T[j,k],basis[i]) + C[j,i,p]*T[p,k] - C[p,i,k]*T[j,p]\n",
    "    return DT"
   ]
  },
  {
   "cell_type": "markdown",
   "id": "63b2c8c4-73c1-458a-82ca-067a87a648b4",
   "metadata": {
    "tags": []
   },
   "source": [
    "### The Riemannm Tensor\n",
    "\n",
    "$$ R^{ \\rho}_{\\sigma \\mu \\nu}  = {\\partial}_{\\mu} {\\Gamma}^{\\rho}_{\\nu \\sigma} - {\\partial}_{\\nu} {\\Gamma}^{\\rho}_{\\mu \\sigma} + {\\Gamma}^{\\rho}_{\\mu \\lambda}{\\Gamma}^{\\lambda}_{\\nu \\sigma} - {\\Gamma}^{\\rho}_{\\nu \\lambda}{\\Gamma}^{\\lambda}_{\\mu \\sigma} $$"
   ]
  },
  {
   "cell_type": "code",
   "execution_count": 13,
   "id": "fd73f37f-033c-4251-9427-cbc3e21d6986",
   "metadata": {
    "tags": []
   },
   "outputs": [],
   "source": [
    "def Riemann(M):\n",
    "    T = M['Metric']\n",
    "    N = M['Dimention']\n",
    "    basis = M['Basis']\n",
    "    G = Gamma(M)\n",
    "    R = smp.MutableDenseNDimArray(smp.zeros(N**4),(N,N,N,N))\n",
    "    for i in range(N):\n",
    "        for j in range(N):\n",
    "            for k in range(N):\n",
    "                for p in range(N):\n",
    "                    for d in range(N):\n",
    "                        R[i, j, k, p] += smp.Rational(1, N)*(smp.diff(G[i,p,j],basis[k])-\n",
    "                                                             smp.diff(G[i,k,j],basis[p]))+(G[i,k,d]*G[d,p,j]-G[i,p,d]*G[d,k,j])\n",
    "\n",
    "    \n",
    "    return R"
   ]
  },
  {
   "cell_type": "markdown",
   "id": "0670bd7d-8105-444a-9f4f-c97cf90b5642",
   "metadata": {},
   "source": [
    "Purely covariant Riemann tensor:\n",
    "    \n",
    "$$ R_{\\rho \\sigma \\mu \\nu} = g_{\\rho \\alpha}R^{\\alpha}_{\\sigma \\mu \\nu}$$"
   ]
  },
  {
   "cell_type": "code",
   "execution_count": 14,
   "id": "69484861-77f5-4f43-a599-d88ee4656320",
   "metadata": {
    "tags": []
   },
   "outputs": [],
   "source": [
    "def CovRiemann(T):\n",
    "    G = T['Metric']\n",
    "    N = T['Dimention']\n",
    "    basis = T['Basis']\n",
    "    R = Riemann(T)\n",
    "    RL = smp.MutableDenseNDimArray(smp.zeros(N**4),(N,N,N,N))\n",
    "    for i in range(N):\n",
    "        for j in range(N):\n",
    "            for k in range(N):\n",
    "                for p in range(N):\n",
    "                    for d in range(N):\n",
    "                        RL[i,j,k,p] += G[i,d]*R[d,j,k,p]\n",
    "    return RL"
   ]
  },
  {
   "cell_type": "markdown",
   "id": "a207bec6-03c7-4680-b9de-d6cce2ffe4a4",
   "metadata": {
    "tags": []
   },
   "source": [
    "### The Ricci Tensor\n",
    "\n",
    "$$ R_{\\mu \\nu} = g^{\\alpha \\beta} R_{\\alpha \\mu \\beta \\nu}$$"
   ]
  },
  {
   "cell_type": "code",
   "execution_count": 15,
   "id": "180212ca-a59d-4cf6-844f-be72c72eb60f",
   "metadata": {
    "tags": []
   },
   "outputs": [],
   "source": [
    "def Ricci(T):\n",
    "    G = T['Metric']\n",
    "    N = T['Dimention']\n",
    "    basis = T['Basis']\n",
    "    ig = inv(T)\n",
    "    RL = CovRiemann(T)\n",
    "    Ric = smp.MutableDenseNDimArray(smp.zeros(N**2),(N,N))\n",
    "    for i in range(N):\n",
    "        for j in range(N):\n",
    "            for d in range(N):\n",
    "                for s in range(N):\n",
    "                    Ric[i,j] += ig[d,s]*RL[d,i,s,j]\n",
    "    return Ric"
   ]
  },
  {
   "cell_type": "markdown",
   "id": "b7ceb8f9-de99-401f-9da8-59249ca86a62",
   "metadata": {
    "tags": []
   },
   "source": [
    "### The Ricci Scalar\n",
    "\n",
    "$$ R = g^{\\mu \\nu}R_{\\mu \\nu}$$\n",
    "\n",
    "The Following function will take in the Metric and return the solution for the following equation:\n",
    "\n",
    "$$ R = g^{\\mu \\nu}R_{\\mu \\nu} = 0$$\n",
    "\n",
    "Remark: This is in fact the einstein equation for: $T_{\\mu \\nu}=0$ and $\\Lambda = 0$"
   ]
  },
  {
   "cell_type": "code",
   "execution_count": 16,
   "id": "e71387f4-379e-4612-9e3c-0b59cc4e6873",
   "metadata": {
    "tags": []
   },
   "outputs": [],
   "source": [
    "def RiccScalar(T):\n",
    "    G = T['Metric']\n",
    "    N = T['Dimention']\n",
    "    basis = T['Basis']\n",
    "    R = Ricci(T)\n",
    "    ig = inv(T)\n",
    "    S = float()\n",
    "    for d in range(N):\n",
    "        for s in range(N):\n",
    "            S = ig[d,s]*R[d,s]\n",
    "    return S"
   ]
  },
  {
   "cell_type": "markdown",
   "id": "72203068-79f7-4d82-9d6e-a34e1db06ad9",
   "metadata": {
    "tags": []
   },
   "source": [
    "### The Curvature Scalar\n",
    "\n",
    "$$ S = g^{\\sigma \\alpha}g^{\\rho \\beta}g^{\\mu \\gamma}g^{\\epsilon \\nu}R_{\\alpha \\beta \\mu \\nu} R_{\\sigma \\rho \\gamma \\epsilon} = R^{\\sigma \\rho \\gamma \\epsilon}R_{\\sigma \\rho \\gamma \\epsilon}$$"
   ]
  },
  {
   "cell_type": "code",
   "execution_count": 17,
   "id": "0920070b-c5c0-413f-b15f-5615c3375ab2",
   "metadata": {
    "tags": []
   },
   "outputs": [],
   "source": [
    "def CurvScalar(T):\n",
    "    G = T['Metric']\n",
    "    N = T['Dimention']\n",
    "    basis = T['Basis']\n",
    "    R = CovRiemann(T)\n",
    "    ig = inv(T)\n",
    "    CS = float()\n",
    "    for i in range(N):\n",
    "        for j in range(N):\n",
    "            for k in range(N):\n",
    "                for p in range(N):\n",
    "                    for d in range(N):\n",
    "                        for n in range(N):\n",
    "                            for s in range(N):\n",
    "                                for t in range(N):\n",
    "                                    CS += ig[i,j]*ig[k,p]*ig[d,n]*ig[s,t]*R[i,k,d,s]*R[j,p,d,s]\n",
    "    return CS"
   ]
  },
  {
   "cell_type": "markdown",
   "id": "d25af766-92e0-4108-b6d4-ca955643eee5",
   "metadata": {
    "tags": []
   },
   "source": [
    "### The Geodesic Equation\n",
    "\n",
    "$$ \\frac{d^2x^{\\mu}}{d\\tau^2} + {\\Gamma}^{\\mu}_{\\alpha \\beta} \\frac{dx^{\\alpha}}{d\\tau}\\frac{dx^{\\beta}}{d\\tau} = 0$$"
   ]
  },
  {
   "cell_type": "code",
   "execution_count": 18,
   "id": "7a6ed027-0941-46c7-ba2b-2e44a8da040a",
   "metadata": {},
   "outputs": [],
   "source": [
    "def Geodesic(T):\n",
    "    N = T['Dimention']\n",
    "    basis = T['Basis']\n",
    "    P = T['Basis_Parameter']\n",
    "    C = Gamma(T)\n",
    "    Geo = smp.MutableDenseNDimArray(smp.zeros(N),(N))\n",
    "    for i in range(N):\n",
    "        for j in range(N):\n",
    "            for k in range(N):\n",
    "                Geo[[i]] += smp.Rational(1, N**2)*(smp.diff(basis[i], tau, tau)) + C[i, j, k]*(smp.diff(basis[j], tau))*(smp.diff(basis[k], tau))\n",
    "    \n",
    "    return Geo"
   ]
  },
  {
   "cell_type": "markdown",
   "id": "2ae1fc9a-db49-4398-94c5-f7749b1e9fc2",
   "metadata": {
    "tags": []
   },
   "source": [
    "### The Euler-Lagrange Equation in GR"
   ]
  },
  {
   "cell_type": "markdown",
   "id": "6f5f25a4-6726-4057-b77d-10f85ab436e0",
   "metadata": {},
   "source": [
    "<b> First we define the Lagrangian above:\n",
    "    \n",
    "\n",
    "$$ L = \\sqrt{-g_{\\mu \\nu}\\frac{dx^{\\mu}}{d\\tau}\\frac{dx^{\\nu}}{d\\tau}} $$"
   ]
  },
  {
   "cell_type": "code",
   "execution_count": 19,
   "id": "026c5cce-284f-4b92-95ac-b09322ee02ea",
   "metadata": {},
   "outputs": [],
   "source": [
    "def Lagrangian(T):\n",
    "    G = T['Metric']\n",
    "    N = T['Dimention']\n",
    "    basis = T['Basis']\n",
    "    P = T['Basis_Parameter']\n",
    "    L = float()\n",
    "    for i in range(N):\n",
    "        for j in range(N):\n",
    "            L += - G[i,j]*smp.diff(P[i], tau)*smp.diff(P[j], tau)\n",
    "    \n",
    "    return smp.sqrt(L)"
   ]
  },
  {
   "cell_type": "markdown",
   "id": "39f1b2a9-f3dd-4489-aef5-c776b07fba6c",
   "metadata": {},
   "source": [
    "<b> Second, we define the Euler-Lagrange Equations:\n",
    "    \n",
    "$$ \\frac{\\partial L}{\\partial x^{\\alpha}} - \\frac{d}{d\\tau}\\frac{\\partial L}{\\partial \\frac{\\partial x^{\\alpha}}{\\partial \\tau}}=0$$\n",
    "    \n",
    "Note: To greatly simplify these equations, the code sets the lagrangian equal to 1 in each iteration of calculation. We are allowed to do this because we can arbitrarily set the length of the geodesic equation to be what we like. The path itself is what we are interested in, the length of the path is really just not so important. All we are doing by setting $L=1$ at the end of our calculations is setting the length of our geodesic curve, parametrixzed by $\\tau$ to be $length = 1$ "
   ]
  },
  {
   "cell_type": "code",
   "execution_count": 20,
   "id": "210cde38-1249-41d3-8828-b6609c75a09f",
   "metadata": {},
   "outputs": [],
   "source": [
    "def Euler_Lagrange(L, T):\n",
    "    N = T['Dimention']\n",
    "    basis = T['Basis']\n",
    "    P = T['Basis_Parameter']\n",
    "    \n",
    "    dpdt = smp.MutableDenseNDimArray(smp.zeros(N),(N))\n",
    "    for i in range(N):\n",
    "        dpdt[[i]] = smp.diff(P[i],tau)\n",
    "    \n",
    "    A = smp.MutableDenseNDimArray(smp.zeros(N),(N))\n",
    "    B = smp.MutableDenseNDimArray(smp.zeros(N),(N))\n",
    "    for i in range(N):\n",
    "        B[[i]] = smp.diff(L, dpdt[i])\n",
    "    for i in range(N):\n",
    "        A[[i]] = B[i].subs(L, 1)\n",
    "    \n",
    "    \n",
    "    C = smp.MutableDenseNDimArray(smp.zeros(N),(N))\n",
    "    D = smp.MutableDenseNDimArray(smp.zeros(N),(N))\n",
    "    for i in range(N):\n",
    "        C[[i]] = smp.diff(L, P[i])\n",
    "    for i in range(N):\n",
    "        D[[i]] = C[i].subs(L, 1)\n",
    "    \n",
    "    La = smp.MutableDenseNDimArray(smp.zeros(N),(N))\n",
    "    for i in range(N):\n",
    "            La[[i]] = D[i] - smp.diff(A[i], tau)\n",
    "    \n",
    "    return La"
   ]
  },
  {
   "cell_type": "markdown",
   "id": "2ae89668-0fc5-4fd2-840f-5a1d0208d1da",
   "metadata": {
    "tags": []
   },
   "source": [
    "### The Einstein Field Equations\n",
    "\n",
    "$$ R_{\\mu \\nu} - \\frac{1}{2} g_{\\mu \\nu} R + g_{\\mu \\nu} \\frac{\\Lambda}{c^2} = \\frac{8 \\pi G_N}{c^4} T_{\\mu \\nu}$$\n",
    "\n",
    "However, firstly we are working with the units $c=1$ and secondly, we must rearange the equation into a form which allows us to create a SymPy function for it and furthermore, we will only work with metrics of dimention 4 with this equation in particular:\n",
    "\n",
    "$$ R_{\\mu \\nu} - \\frac{1}{2} g_{\\mu \\nu} R + g_{\\mu \\nu}\\Lambda - 8 \\pi G T_{\\mu \\nu} = 0$$\n",
    "\n",
    "Important remark: Before using this function, make sure you have the right form of the energy momentum you are trying to find the metric solution for.\n",
    "Exmaple: Suppose you wish to find the metric for a charged black hole, do not mistake the Stress-Energy Tensor $T_{\\mu \\nu}$ with the electromagnetic tensor $F_{\\mu \\nu}$. If you are familiar with physcis, you will know one is determined from the other by the following equation:\n",
    "\n",
    "$$T_{\\mu \\nu} = F_{\\mu \\lambda} F_{\\nu}^{\\lambda} - \\frac{1}{4}g^{\\mu \\nu}F_{\\alpha \\beta}F^{\\alpha \\beta}$$"
   ]
  },
  {
   "cell_type": "code",
   "execution_count": 21,
   "id": "eec2de29-3c62-40df-a251-e4fb5602761d",
   "metadata": {},
   "outputs": [],
   "source": [
    "def Einstein(G, E, C):\n",
    "    g = G['Metric']\n",
    "    N = G['Dimention']\n",
    "    basis = G['Basis']\n",
    "    Ric = Ricci(G)\n",
    "    Ein = smp.MutableDenseNDimArray(smp.zeros(N**2),(N,N))\n",
    "    for i in range(N):\n",
    "        for j in range(N):\n",
    "                    Ein[i,j] += ig[d,s]*RL[d,i,s,j]\n",
    "    return Ric"
   ]
  },
  {
   "cell_type": "markdown",
   "id": "ffd20423-78b6-4820-8bf1-18137a9a7058",
   "metadata": {
    "tags": []
   },
   "source": [
    "# <center>Calculating the Schwarzschild solution<center>"
   ]
  },
  {
   "cell_type": "code",
   "execution_count": 22,
   "id": "ea95db9b-e096-4091-a1bc-056d0caa0887",
   "metadata": {
    "tags": []
   },
   "outputs": [],
   "source": [
    "eq1 = Ricci(Sphecally_Symmetric_Metric)[0,0].simplify()\n",
    "eq2 = Ricci(Sphecally_Symmetric_Metric)[1,1].simplify()\n",
    "eq3 = Ricci(Sphecally_Symmetric_Metric)[2,2].simplify()\n",
    "eq4 = Ricci(Sphecally_Symmetric_Metric)[3,3].simplify()"
   ]
  },
  {
   "cell_type": "markdown",
   "id": "d3b61824-c35f-47e2-9df6-f9f1047845d6",
   "metadata": {},
   "source": [
    "We have the following:\n",
    "\n",
    "$R_{t t} = 0 \\Leftrightarrow $ Equation 1: $$ \\frac{A''}{2B} - \\frac{A'B'}{4B^2} - \\frac{(A')^2}{4AB} + \\frac{A'}{rB}= 0$$\n",
    "\n",
    "$R_{r r} = 0 \\Leftrightarrow $ Equation 2: $$ \\frac{A''}{2A} + \\frac{A'B'}{4AB} + \\frac{(A')^2}{4A^2} + \\frac{B'}{rB} = 0$$\n",
    "\n",
    "$R_{\\theta \\theta} = 0 \\Leftrightarrow $ Equation 3: $$ \\frac{rB}{2B^2} - \\frac{rA'}{2AB} + 1 + \\frac{1}{B} = 0$$\n",
    "\n",
    "$R_{\\phi \\phi} = 0 \\Leftrightarrow $ Equation 4: $$ \\sin^2(\\theta) \\left(\\frac{rAB'}{2AB^2} - \\frac{rBA'}{2AB^2} + 1 - \\frac{1}{B} \\right) = 0$$\n",
    "\n",
    "It is easy to see how one might simplify these, but lets skip ahead and combine some of these to get to what we want. (Expressions of $A(r)$ and $B(r)$.) Namely, we will do the following to Equation 1 and Equation 2:\n",
    "\n",
    "Define a new Equation 5: $$ \\left( B \\times Equation1 + A \\times Equation2 \\right) \\times (rB)$$"
   ]
  },
  {
   "cell_type": "code",
   "execution_count": 23,
   "id": "ce1c515a-3a96-48a3-aee8-29cff4ec5da4",
   "metadata": {
    "tags": []
   },
   "outputs": [],
   "source": [
    "eq5 = ((eq1*B + eq2*A)*(r*B)).simplify()"
   ]
  },
  {
   "cell_type": "markdown",
   "id": "6c8374ed-9454-4800-8b93-51ae1225e9c0",
   "metadata": {
    "tags": []
   },
   "source": [
    "We find Equation 5: $$A(r)\\frac{dB(r)}{dr} - B(r)\\frac{dA(r)}{dr}  = 0$$\n",
    "\n",
    "Which we can solve directly:"
   ]
  },
  {
   "cell_type": "code",
   "execution_count": 24,
   "id": "97a4cecf-59a3-40c5-b76e-04ad576c9d26",
   "metadata": {},
   "outputs": [],
   "source": [
    "B_solution = smp.dsolve(eq5, B)"
   ]
  },
  {
   "cell_type": "markdown",
   "id": "3dd6ff43-93a6-4f01-b5ff-df25dc1a72b0",
   "metadata": {},
   "source": [
    "We find the following from solving Equation 5:\n",
    "\n",
    "$$B(r) = \\frac{C_0}{A(r)}$$\n",
    "\n",
    "Which we can now substitute into Equation 3 or Equation 4, in this case we substitute into Equation 3. We will call it Equation 6:"
   ]
  },
  {
   "cell_type": "code",
   "execution_count": 25,
   "id": "ac553baf-5e0d-455b-9050-e057aa46f2a0",
   "metadata": {
    "tags": []
   },
   "outputs": [],
   "source": [
    "eq6 = eq3.subs(B, C_0/A).simplify()"
   ]
  },
  {
   "cell_type": "markdown",
   "id": "55b9d10e-b271-40b7-b7a1-2cfa99a90cd0",
   "metadata": {},
   "source": [
    "Equation 6:\n",
    "\n",
    "$$ 1 - A(r) - r \\frac{dA(r)}{dr} = 0$$\n",
    "\n",
    "We are now at a point from which we can explicitly solve to find an exact function for $A(r)$:"
   ]
  },
  {
   "cell_type": "code",
   "execution_count": 26,
   "id": "56daf6a7-31b2-4b32-b43d-4c9f4545480d",
   "metadata": {
    "tags": []
   },
   "outputs": [],
   "source": [
    "sol_A = smp.dsolve(eq6, A)"
   ]
  },
  {
   "cell_type": "markdown",
   "id": "76e7169d-ccc8-46fe-95ee-89a95c4ccb4b",
   "metadata": {},
   "source": [
    "Finnaly we have a solution to what we want. We find two constants, which we can combine into one and find:\n",
    "\n",
    "$$ A(r) = 1 + \\frac{C_{1}}{r}$$\n",
    "\n",
    "To find the constant $C_{1}$ requires physical boundary conditions. The way we find it is by substituting the above into the original metric, to find:\n",
    "\n",
    "\n",
    "$$ g_{\\mu \\nu} = \n",
    "\\begin{pmatrix}\n",
    "1 + \\frac{C_{1}}{r} & 0 & 0 & 0\\\\\n",
    "0 & \\frac{1}{1 + \\frac{C_{1}}{r}} & 0 & 0\\\\\n",
    "0 & 0 & r^2 & 0 \\\\\n",
    "0 & 0 & 0 & r^2\\sin^2(\\theta)\n",
    "\\end{pmatrix} $$\n",
    "\n",
    "We must make the following requirement:\n",
    "\n",
    "<center>Acceleration in flat-metric-approximation near body of mass M = Newtonian acceleration of gravity near body of mass M<center>\n",
    "    \n",
    "Mathematically, this is what we do:\n",
    "    \n",
    "In the limit $r \\rightarrow \\infty$\n",
    "    \n",
    "$$ \\frac{d^2r}{d\\tau^2} = \\Gamma^{r}_{t t} c c  \\Leftrightarrow ma = - \\frac{GMm}{r^2}$$\n",
    "    \n",
    "In comparing these two we can find that in the limmit $r \\rightarrow \\infty$ we find:\n",
    "    \n",
    "$$ - C_1 = r_s = \\frac{2GM}{c^2} $$\n",
    "    \n",
    "And we therefore find the Schwarzchild Solution in it's full wonderful glory as:\n",
    "    \n",
    "$$ g_{\\mu \\nu} = \n",
    "\\begin{pmatrix}\n",
    "1 - \\frac{r_s}{r} & 0 & 0 & 0\\\\\n",
    "0 & \\frac{1}{1 - \\frac{r_s}{r}} & 0 & 0\\\\\n",
    "0 & 0 & r^2 & 0 \\\\\n",
    "0 & 0 & 0 & r^2\\sin^2(\\theta)\n",
    "\\end{pmatrix} $$\n",
    "    \n",
    "And we now write this very metric in Sympy form so that we can calculate more interesting physical things:"
   ]
  },
  {
   "cell_type": "markdown",
   "id": "25482e62-44f9-41f8-bff0-30424359ff31",
   "metadata": {
    "tags": []
   },
   "source": [
    "#### The Schwarzschild Metric"
   ]
  },
  {
   "cell_type": "code",
   "execution_count": 27,
   "id": "69946050-2ff8-469d-934d-d496e0f7dbef",
   "metadata": {},
   "outputs": [],
   "source": [
    "t_p, r_p, theta_p, phi_p = smp.symbols('t_p r_p theta_p phi_p', cls = smp.Function)\n",
    "\n",
    "t_p = t_p(tau)\n",
    "r_p = r_p(tau)\n",
    "theta_p = theta_p(tau)\n",
    "phi_p = phi_p(tau)\n",
    "\n",
    "Schild = { 'Metric' : smp.MutableDenseNDimArray([[-(1 - (r_s)/(r_p)),0,0,0],\n",
    "                                                 [0,1/(1 - (r_s)/(r_p)),0,0],\n",
    "                                                 [0,0,r_p**2,0],\n",
    "                                                 [0,0,0,r_p**2*smp.sin(theta_p)**2]]),\n",
    "          'Basis' : smp.Array([t_p,r_p,theta_p,phi_p]),\n",
    "          \n",
    "          'Dimention' : 4, \n",
    "          \n",
    "          'Basis_Parameter' : smp.MutableDenseNDimArray([t_p, r_p, theta_p, phi_p]) }"
   ]
  },
  {
   "cell_type": "markdown",
   "id": "9271a8b0-e4fb-4e6f-be57-278b8efe3331",
   "metadata": {},
   "source": [
    "<b>Remark:\n",
    "\n",
    "Because each variable in this metric will be sooner or later be parammetrised by one variable to find worldlines and geodesics in this space, we have written the metric itself not with Sympy variables but rather with Sympy functions."
   ]
  },
  {
   "cell_type": "markdown",
   "id": "857c78ca-0b86-45c0-821b-14d759910766",
   "metadata": {
    "tags": []
   },
   "source": [
    "# <center>Calculating & Animating Orbital Equations<center>"
   ]
  },
  {
   "cell_type": "markdown",
   "id": "11336721-db13-4137-9a1a-0aec7bef46d2",
   "metadata": {},
   "source": [
    "In curved spaces, particles follow paths known as geodesics, where massive and massless particles do, of course, have slightly different geodesics. Given we now want to describe moving particles in curved spaces, geodesic equations are indispensable. There are a few different ways the geodesic can be derived, an elegant method is by extremizing the proper time:\n",
    "\n",
    "$$ \\tau_{AB} = \\int^{A}_{B} \\sqrt{-g_{\\mu \\nu}\\frac{dx^{\\mu}}{d\\tau}\\frac{dx^{\\nu}}{d\\tau}} $$\n",
    "\n",
    "A to B is the proper time A\n",
    "elapsed in space-time and we will find it convenient later to make it a unit length."
   ]
  },
  {
   "cell_type": "code",
   "execution_count": 28,
   "id": "9b5b57ea-5532-4db6-bef6-6fc8fa0f20de",
   "metadata": {},
   "outputs": [],
   "source": [
    "L = Lagrangian(Schild)"
   ]
  },
  {
   "cell_type": "markdown",
   "id": "007935da-88dd-4171-b59b-2dc1f26e1957",
   "metadata": {},
   "source": [
    "The Lagrangian equation above is given by:\n",
    "\n",
    "$$L = \\sqrt{ \\left( 1 - \\frac{r_s}{r} \\right) \\dot{t}^2 - \\left( 1 - \\frac{r_s}{r} \\right)^{-1}  \\dot{r}^2 - r^2 \\dot{\\theta}^2 - r^2\\sin^2(\\theta) \\dot{\\phi}^2}$$"
   ]
  },
  {
   "cell_type": "markdown",
   "id": "0bb3001d-c054-452e-8ac6-631af2f12c71",
   "metadata": {},
   "source": [
    "<b> Next, we solve Euler-Lagrange for $L$\n",
    "    \n",
    "We now wish to solve the equation of motions, by substituting our lagrangian above into the Euler-Lagrange Equations:\n",
    "\n",
    "$$ \\frac{\\partial L}{\\partial x^{\\alpha}} - \\frac{d}{d\\tau}\\frac{\\partial L}{\\partial \\dot{x^{\\alpha}}}=0$$\n",
    "\n",
    "We have a 4-Dimentional spacetime and therefore there will be 4 differential equations:\n",
    "\n",
    "1. We can create an extra equation given above for $L=1$\n",
    "2. The Euler-Lagrange for $t$\n",
    "3. The Euler-Lagrange for $r$\n",
    "4. The Euler-Lagrange for $\\theta$\n",
    "5. The Euler-Lagrange for $\\phi$"
   ]
  },
  {
   "cell_type": "markdown",
   "id": "fafd5d77-dc98-4c32-a114-abb3d9179120",
   "metadata": {},
   "source": [
    "<b>1. The extra Euler-Lagrange\n",
    "\n",
    "By setting this equation to one $L=0$ we can treat it as an extra differential equation of motion. The reason we are allowed to do this is because $L$ represents the length of the parametrised path we will find by solving Euler-Lagrange equations. As the actual length is arbitrary non-zero value dependent on the parameter itself, we can choose any non-zero positive value, in this case we choose $1$."
   ]
  },
  {
   "cell_type": "code",
   "execution_count": 29,
   "id": "665ebbc8-f958-4e97-a012-4a47ef5fbba3",
   "metadata": {},
   "outputs": [],
   "source": [
    "E0 = 1 - Lagrangian(Schild)**2"
   ]
  },
  {
   "cell_type": "markdown",
   "id": "083d8c5d-1ff6-4213-8bca-81ac13a641d5",
   "metadata": {},
   "source": [
    "This Equation of motion we will call E0 and it is given by:\n",
    "\n",
    "$$1 = \\left( 1 - \\frac{r_s}{r} \\right) \\dot{t}^2 - \\left( 1 - \\frac{r_s}{r} \\right)^{-1}  \\dot{r}^2 - r^2 \\dot{\\theta}^2 - r^2\\sin^2(\\theta) \\dot{\\phi}^2$$\n",
    "\n",
    "Important Remark: This will be used as a \"Main Equation\" meaning it is this equation which we will substitute the other differential equations into, to find a final differential equation of the form: \n",
    "\n",
    "$$E = KE + V_{eff}$$"
   ]
  },
  {
   "cell_type": "markdown",
   "id": "3b7ebafe-65c3-44a8-8242-918333b256e2",
   "metadata": {},
   "source": [
    "<b>2. The Euler-Lagrange for t\n",
    "    \n",
    "We do not need to emmediatly use our Euler-Lagrange function to find this equation. Notice that since L is completly independent of time $t$\n",
    "    \n",
    "This means our E-L reduces to:\n",
    "    \n",
    "$$ \\frac{d}{d\\tau}\\frac{\\partial L}{\\partial \\dot{t}}=0 \\Rightarrow \\frac{\\partial L}{\\partial \\dot{t}} = Constant$$\n",
    "\n",
    "We write this constant as Energy $E$ and we find our first equation of motion as:"
   ]
  },
  {
   "cell_type": "code",
   "execution_count": 30,
   "id": "9abedd59-a51d-4896-ae22-3c7c66e08d25",
   "metadata": {},
   "outputs": [],
   "source": [
    "t_d = (E)/(1 - r_s/r_p)"
   ]
  },
  {
   "cell_type": "markdown",
   "id": "80085362-d7ff-4d17-a387-e6e11aac2185",
   "metadata": {},
   "source": [
    "$$ \\frac{dt}{d\\tau} = \\frac{E}{1 - \\frac{r_s}{r}}$$"
   ]
  },
  {
   "cell_type": "markdown",
   "id": "aab3e4b0-a34e-49c8-b480-a5d8b3da86c5",
   "metadata": {},
   "source": [
    "<b>3. The Euler-Lagrange for $r$"
   ]
  },
  {
   "cell_type": "code",
   "execution_count": 31,
   "id": "2eda520a-bd12-46eb-ad69-a992d4fcb406",
   "metadata": {},
   "outputs": [],
   "source": [
    "Er = Euler_Lagrange(L, Schild)[1]"
   ]
  },
  {
   "cell_type": "markdown",
   "id": "d7cada64-a7c7-4789-a7c4-a11126a4a262",
   "metadata": {},
   "source": [
    "Which we find to be:\n",
    "\n",
    "$$ 0 = \\left( 1 - \\frac{r_s}{r} \\right)^{-1} \\frac{d^2r}{d\\tau^2} - \\frac{r_s}{2r^2 \\left( 1 - \\frac{r_s}{r} \\right)^2} \\left( \\frac{dr}{d\\tau} \\right)^2  + \\frac{r_s}{2r^2} \\left( \\frac{dt}{d\\tau} \\right)^2 - r \\left( \\frac{d\\phi}{d\\tau} \\right)^2 - r\\sin^2(\\theta) \\left( \\frac{d\\phi}{d\\tau} \\right)^2$$\n",
    "\n",
    "From which we can rearange to find an explicity equation for $\\frac{d^2r}{d\\tau^2} = ...$"
   ]
  },
  {
   "cell_type": "code",
   "execution_count": 32,
   "id": "80fc2366-f010-4f4b-9bfe-65cf67d8364c",
   "metadata": {},
   "outputs": [],
   "source": [
    "r_dd = smp.solve(Er, smp.diff(r_p, tau, tau))[0]"
   ]
  },
  {
   "cell_type": "markdown",
   "id": "df3ec84b-00e3-47f2-b99b-4c4a8ad02f34",
   "metadata": {},
   "source": [
    "<b>4. The Euler-Lagrange for $\\theta$"
   ]
  },
  {
   "cell_type": "code",
   "execution_count": 33,
   "id": "1b68322f-6c6a-4bd3-96e7-34d27b94e48a",
   "metadata": {},
   "outputs": [],
   "source": [
    "Etheta = Euler_Lagrange(L, Schild)[2]"
   ]
  },
  {
   "cell_type": "markdown",
   "id": "9510fa3a-8e68-4a67-bb14-9be7f330e99d",
   "metadata": {},
   "source": [
    "Which we find to be:\n",
    "\n",
    "$$ 0 = r^2 \\left( \\frac{d^2\\theta}{d\\tau^2} \\right) + 2r \\left( \\frac{dr}{d\\tau} \\right) \\left( \\frac{d\\theta}{d\\tau} \\right) - r^2\\sin(\\theta)\\cos(\\theta) \\left( \\frac{d\\phi}{d\\tau} \\right)^2$$\n",
    "\n",
    "From which we can rearange to find an explicity equation for $\\frac{d^2\\theta}{d\\tau^2} = ...$"
   ]
  },
  {
   "cell_type": "code",
   "execution_count": 34,
   "id": "fabfd7e7-5dcd-4f4e-9fc2-d58d3c379063",
   "metadata": {},
   "outputs": [],
   "source": [
    "theta_dd = smp.solve(Etheta, smp.diff(theta_p, tau, tau))[0]"
   ]
  },
  {
   "cell_type": "markdown",
   "id": "44a7aebf-85e1-40ee-9a27-3b16243f012d",
   "metadata": {},
   "source": [
    "<b>5. The Euler-Lagrange for $\\phi$\n",
    "    \n",
    "Just like in the case for time-component equation, $L$ is completly independent of $\\phi$, which again, emediatly reduces the Euler-Lagrange equation to the form:\n",
    "    \n",
    "$$ \\frac{d}{d\\tau}\\frac{\\partial L}{\\partial \\dot{\\phi}}=0 \\Rightarrow \\frac{\\partial L}{\\partial \\dot{\\phi}} = Constant$$\n",
    "\n",
    "We write this constant as Angular Momentum, dented by $l$ and we find our phi equation of motion to be:\n",
    "    \n",
    "$$ \\frac{d\\phi}{d\\tau} = \\frac{l}{r^2\\sin^2(\\theta)} $$"
   ]
  },
  {
   "cell_type": "code",
   "execution_count": 35,
   "id": "47bbb52f-460b-45ff-a6c2-60bddb193a99",
   "metadata": {},
   "outputs": [],
   "source": [
    "phi_d = l/(r_p**2*smp.sin(theta_p)**2)"
   ]
  },
  {
   "cell_type": "markdown",
   "id": "0c70745b-ed0f-401f-b65b-fc9147bb8c2d",
   "metadata": {},
   "source": [
    "However, we can also immediatly find the equation for $\\frac{d^2\\phi}{d\\tau^2} = ...$"
   ]
  },
  {
   "cell_type": "code",
   "execution_count": 36,
   "id": "4cc1d8ab-261d-4aa3-8e10-f789669bfafc",
   "metadata": {},
   "outputs": [],
   "source": [
    "phi_dd = smp.solve(Euler_Lagrange(L, Schild)[3].subs(theta_p, smp.pi/2).simplify(), smp.diff(phi_p, tau, tau))[0].simplify() # Please mind the messiness"
   ]
  },
  {
   "cell_type": "markdown",
   "id": "b29ea927-6bcc-4548-9b2e-a36338960edc",
   "metadata": {},
   "source": [
    "<b> Physics Simplifications:\n",
    "\n",
    "Before continue with the maths let’s think about some physics:\n",
    "    \n",
    "Due to conservation of angular momentum, we know planets orbit on fixed planes. This statement comes from Newtonian physics, however, it also applies to the Schwarzchild spacetime geometry, as can be seen from the maths by the independence of $\\phi$ in our Lagrangian $L$ derived from the Schwarzchild metric itself. The variable $\\theta$ determines the plane of the orbital motion. The exact same physics will happen on any orbital plane we choose to do our calculations. Therefore, for mathematical simplicity, we make the choice:\n",
    "    \n",
    "$\\theta = \\frac{\\pi}{2}$, consequently $\\sin(\\frac{\\pi}{2}) = 1$ and  $\\frac{d\\theta}{d\\tau}=0$."
   ]
  },
  {
   "cell_type": "markdown",
   "id": "1dc0ecb1-590f-40d2-9619-d3dfded017a7",
   "metadata": {},
   "source": [
    "<b> Substitutions:\n",
    "    \n",
    "First: We have explicit forms for $\\frac{d\\phi}{d\\tau}$ and $\\frac{dt}{d\\tau}$ which we can substitute into our first equation $L=1$ (E0)\n",
    "    \n",
    "Second: We have made the choice $\\theta = \\frac{\\pi}{2}$ which we can also use to greatly simlify $L=1$ (E0) from any dependence of $\\theta$\n",
    "    \n",
    "After making these substitutions, we will call the resulting equation E1"
   ]
  },
  {
   "cell_type": "code",
   "execution_count": 37,
   "id": "19ce2192-fb13-498d-b903-a75876f7a038",
   "metadata": {},
   "outputs": [],
   "source": [
    "E1 = E0.subs([(smp.diff(t_p, tau),t_d), (smp.diff(phi_p, tau), phi_d), (theta_p, smp.pi/2)]).simplify()"
   ]
  },
  {
   "cell_type": "markdown",
   "id": "ea536086-fc5e-4ab1-bc70-af0fedef2c49",
   "metadata": {},
   "source": [
    "This new differential equation E1, is given by:\n",
    "\n",
    "$$ 0 = - \\frac{E^2}{2} + \\frac{1}{2} + \\frac{1}{2}\\left( \\frac{dr}{d\\tau} \\right)^2 - \\frac{r_s}{2r} + \\frac{l^2}{2r^2} - \\frac{r_sl^2}{2r^3} $$\n",
    "\n",
    "Which can be rearranged to the form\n",
    "\n",
    "$$ \\left( \\frac{E^2}{2} \\right) = \\frac{1}{2}\\left( \\frac{dr}{d\\tau} \\right)^2 + \\frac{1}{2} - \\frac{r_s}{2r} + \\frac{l^2}{2r^2} - \\frac{r_sl^2}{2r^3} $$\n",
    "\n",
    "Which is clearly of the same shape as\n",
    "\n",
    "$$ E = KE + V_{eff} $$\n",
    "\n",
    "And we find the very usefull term:\n",
    "\n",
    "$$ V_{eff} = \\frac{1}{2} + \\frac{l^2}{2r^2} - \\frac{r_s}{2r} - \\frac{r_sl^2}{2r^3} $$"
   ]
  },
  {
   "cell_type": "markdown",
   "id": "23e25499-bae7-49ca-b68f-752d995fad6b",
   "metadata": {},
   "source": [
    "### Animating Orbital Equations"
   ]
  },
  {
   "cell_type": "markdown",
   "id": "ee6cc91f-cc90-44cb-abf0-9653206f2494",
   "metadata": {},
   "source": [
    "There are many ways to go about animating orbital equations. We will do the most straighforeward method, to arrive at the answer quickest. From a physics standpoint, our solution can be considered as a Newtonian approximation to the General Relativistic orbit. This is not to say we do not have all the relevant information and equations at hand to calculate all the precise relativistic GRsolutions. However, that rout is much longer, so for the sake of \"getting to the point\" we will make due with the Newtonian approximation, which still reproduces the identifying feature of a Relativistic orbit, known as precession of the perihelion of orbits. What I mean by Newtonian approximation, is we will solve the classical Euler-Lagrange equation with the effective potential calculated above using GR.\n",
    "\n",
    "We have non-relativistic Kinetic Energy given by:\n",
    "\n",
    "$$ KE = \\frac{1}{2}m \\left( \\left( \\frac{dr}{dt} \\right)^2 + r^2 \\left( \\frac{d\\phi}{dt} \\right)^2 \\right) $$\n",
    "\n",
    "The effective potential is given by \n",
    "\n",
    "$$ V_{eff} = \\frac{1}{2} + \\frac{l^2}{2r^2} - \\frac{r_s}{2r} - \\frac{r_sl^2}{2r^3} $$"
   ]
  },
  {
   "cell_type": "code",
   "execution_count": 38,
   "id": "67fc2500-9088-4c54-9a6e-ac5c8ae7d9c6",
   "metadata": {
    "tags": []
   },
   "outputs": [],
   "source": [
    "t, m, M, l, r_s = smp.symbols('t m M l r_s')\n",
    "r, theta = smp.symbols('r theta', cls = smp.Function)"
   ]
  },
  {
   "cell_type": "code",
   "execution_count": 39,
   "id": "aa11d7aa-f960-4c94-9847-c097dfbef9c7",
   "metadata": {},
   "outputs": [],
   "source": [
    "r = r(t)\n",
    "theta = theta(t)"
   ]
  },
  {
   "cell_type": "code",
   "execution_count": 40,
   "id": "52dd984c-245e-466a-b38a-06afb971040e",
   "metadata": {},
   "outputs": [],
   "source": [
    "drdt = smp.diff(r, t)\n",
    "dthetadt = smp.diff(theta, t)"
   ]
  },
  {
   "cell_type": "markdown",
   "id": "5ed52c86-da13-4197-bf78-3ce1bfdb5c7e",
   "metadata": {},
   "source": [
    "$$L = KE - V$$\n",
    "\n",
    "Kinetic Energy $KE$:"
   ]
  },
  {
   "cell_type": "code",
   "execution_count": 41,
   "id": "8c0c0422-25f3-4e72-9915-40d03071dce7",
   "metadata": {},
   "outputs": [],
   "source": [
    "KE = smp.Rational(1,2)*m*((drdt**2) + (r**2)*(dthetadt**2))"
   ]
  },
  {
   "cell_type": "markdown",
   "id": "c17fcd72-3951-42ee-8ed5-af998d9394a5",
   "metadata": {},
   "source": [
    "Potential Energy $V$:"
   ]
  },
  {
   "cell_type": "code",
   "execution_count": 42,
   "id": "7e5299df-7f89-4231-8822-239ed8f44303",
   "metadata": {},
   "outputs": [
    {
     "data": {
      "text/latex": [
       "$\\displaystyle - \\frac{l^{2} r_{s}}{2 r^{3}{\\left(t \\right)}} + \\frac{l^{2}}{2 r^{2}{\\left(t \\right)}} - \\frac{r_{s}}{2 r{\\left(t \\right)}} + 0.5$"
      ],
      "text/plain": [
       "-l**2*r_s/(2*r(t)**3) + l**2/(2*r(t)**2) - r_s/(2*r(t)) + 0.5"
      ]
     },
     "execution_count": 42,
     "metadata": {},
     "output_type": "execute_result"
    }
   ],
   "source": [
    "V = 1/2 + (l**2)/(2*r**2) - (r_s)/(2*r) - (r_s*l**2)/(2*r**3)\n",
    "V"
   ]
  },
  {
   "cell_type": "markdown",
   "id": "a08f6585-d513-4572-b380-2328eee832fb",
   "metadata": {},
   "source": [
    "Now, we put these together to find the Lagrangian $L$:"
   ]
  },
  {
   "cell_type": "code",
   "execution_count": 43,
   "id": "d92ac6f1-7614-4eff-aa0a-8f4855544f97",
   "metadata": {},
   "outputs": [],
   "source": [
    "L = KE - V"
   ]
  },
  {
   "cell_type": "markdown",
   "id": "1217ad3f-6bfe-493f-9cb2-32cc563209af",
   "metadata": {},
   "source": [
    "Define the Euler-Lagrange equation, we want equations of $r$ and $\\theta$:\n",
    "\n",
    "$$ \\frac{\\partial L}{\\partial x^{\\mu}} - \\frac{d}{dt}\\frac{\\partial L}{\\partial \\dot{x^{\\mu}}} = 0  $$"
   ]
  },
  {
   "cell_type": "code",
   "execution_count": 44,
   "id": "66deaeb5-7724-48d9-8523-7fc0ed48beed",
   "metadata": {},
   "outputs": [],
   "source": [
    "Er = smp.diff(L, r) - smp.diff( smp.diff(L, drdt),t)\n",
    "Etheta = smp.diff(L, theta) - smp.diff( smp.diff(L, dthetadt),t)"
   ]
  },
  {
   "cell_type": "markdown",
   "id": "a4412551-0d41-4506-b9a7-7c582b6a1721",
   "metadata": {},
   "source": [
    "Now we solve for the equations:\n",
    "    \n",
    "$\\frac{d^2r}{dt^2} = ...$"
   ]
  },
  {
   "cell_type": "code",
   "execution_count": 45,
   "id": "54df4383-9b70-455e-ab98-79390bdf82d8",
   "metadata": {},
   "outputs": [
    {
     "data": {
      "text/latex": [
       "$\\displaystyle \\frac{- \\frac{3 l^{2} r_{s}}{2} + l^{2} r{\\left(t \\right)} + m r^{5}{\\left(t \\right)} \\left(\\frac{d}{d t} \\theta{\\left(t \\right)}\\right)^{2} - \\frac{r_{s} r^{2}{\\left(t \\right)}}{2}}{m r^{4}{\\left(t \\right)}}$"
      ],
      "text/plain": [
       "(-3*l**2*r_s/2 + l**2*r(t) + m*r(t)**5*Derivative(theta(t), t)**2 - r_s*r(t)**2/2)/(m*r(t)**4)"
      ]
     },
     "execution_count": 45,
     "metadata": {},
     "output_type": "execute_result"
    }
   ],
   "source": [
    "d2rdt2 = smp.solve(Er, smp.diff(r, t, t))[0]\n",
    "d2rdt2"
   ]
  },
  {
   "cell_type": "markdown",
   "id": "1c9f3cc5-40c4-4138-8fb7-df9e947b2c16",
   "metadata": {},
   "source": [
    "$\\frac{d^2{\\theta}}{dt^2} = ...$"
   ]
  },
  {
   "cell_type": "code",
   "execution_count": 46,
   "id": "a3c081f3-5b9d-4267-aa6b-5898e1a9bcba",
   "metadata": {},
   "outputs": [
    {
     "data": {
      "text/latex": [
       "$\\displaystyle - \\frac{2 \\frac{d}{d t} r{\\left(t \\right)} \\frac{d}{d t} \\theta{\\left(t \\right)}}{r{\\left(t \\right)}}$"
      ],
      "text/plain": [
       "-2*Derivative(r(t), t)*Derivative(theta(t), t)/r(t)"
      ]
     },
     "execution_count": 46,
     "metadata": {},
     "output_type": "execute_result"
    }
   ],
   "source": [
    "d2thetadt2 = smp.solve(Etheta, smp.diff(theta, t, t))[0]\n",
    "d2thetadt2"
   ]
  },
  {
   "cell_type": "markdown",
   "id": "982696b8-849e-42e3-bba6-d212adf90a05",
   "metadata": {},
   "source": [
    "We have two differential equations and we wish to convert them to four first order ODE's\n",
    "\n",
    "Define:\n",
    "\n",
    "$\\dot{r} = z_1$\n",
    "\n",
    "$\\dot{\\theta} = z_2$\n",
    "\n",
    "Our four ODE's are:\n",
    "\n",
    "$\\dot{r} = z_1$\n",
    "\n",
    "$\\dot{z_1} = ...$\n",
    "\n",
    "$\\dot{\\theta} = z_2$\n",
    "\n",
    "$\\dot{z_2} = ...$\n"
   ]
  },
  {
   "cell_type": "code",
   "execution_count": 47,
   "id": "a470bd65-5bbf-4373-9a1d-b898179ef165",
   "metadata": {},
   "outputs": [],
   "source": [
    "dz1dt_f = smp.lambdify((t, m, M, l, r_s, r, drdt, dthetadt), d2rdt2)\n",
    "dz2dt_f = smp.lambdify((t, m, M, l, r_s, r, drdt, dthetadt), d2thetadt2)\n",
    "drdt_f = smp.lambdify(drdt, drdt)\n",
    "dthetadt_f = smp.lambdify(dthetadt, dthetadt)"
   ]
  },
  {
   "cell_type": "markdown",
   "id": "43953a9b-e234-4c4c-a079-2b62a175e96a",
   "metadata": {},
   "source": [
    "Next, we define $S = (r, z_1, \\theta, z_2)$ from which we can differentiate to find:\n",
    "\n",
    "$$ \\frac{dS}{dt} = (\\dot{r}, \\dot{z_1}, \\dot{\\theta}, \\dot{z_2}) $$"
   ]
  },
  {
   "cell_type": "code",
   "execution_count": 48,
   "id": "3dfa1c29-6d90-42cd-aaa5-54687022e2e4",
   "metadata": {},
   "outputs": [],
   "source": [
    "def dSdt(S, t, m, M, l, r_s):\n",
    "    r, z1, theta, z2 = S\n",
    "    return [drdt_f(z1),\n",
    "           dz1dt_f(t, m, M, l, r_s, r, z1, z2),\n",
    "           dthetadt_f(z2),\n",
    "           dz2dt_f(t, m, M, l, r_s, r, z1, z2)]"
   ]
  },
  {
   "cell_type": "code",
   "execution_count": 99,
   "id": "3c91716a-458a-402b-ba57-ce752285d2cf",
   "metadata": {},
   "outputs": [],
   "source": [
    "t = np.arange(0, 400, 0.05)\n",
    "m = 1\n",
    "l = 0.125\n",
    "r_s = 100\n",
    "S_0 = [8, 1, 0, 0.125]\n",
    "args = (m, M, l, r_s)\n",
    "ans = integrate.odeint(dSdt, S_0 ,t=t, args = args)"
   ]
  },
  {
   "cell_type": "code",
   "execution_count": 100,
   "id": "1bc59d4d-84df-4f6b-a7a5-433f9382faa0",
   "metadata": {},
   "outputs": [],
   "source": [
    "rd = ans.T[0]\n",
    "drdtd = ans.T[1]\n",
    "thetad = ans.T[2]\n",
    "dthetadtd = ans.T[3]"
   ]
  },
  {
   "cell_type": "code",
   "execution_count": 101,
   "id": "4ac2b94f-9e27-417a-aeba-f56a2ef9e398",
   "metadata": {},
   "outputs": [
    {
     "data": {
      "text/plain": [
       "[<matplotlib.lines.Line2D at 0x7f98a8ad43a0>]"
      ]
     },
     "execution_count": 101,
     "metadata": {},
     "output_type": "execute_result"
    },
    {
     "data": {
      "image/png": "[encoded data removed]",
      "text/plain": [
       "<Figure size 432x288 with 1 Axes>"
      ]
     },
     "metadata": {
      "needs_background": "light"
     },
     "output_type": "display_data"
    }
   ],
   "source": [
    "def get_xy_data(t, r, theta):\n",
    "    xt = r*np.cos(theta)\n",
    "    yt = r*np.sin(theta)\n",
    "    return (xt, yt)\n",
    "x1, y1 = get_xy_data(t, ans.T[0], ans.T[2])\n",
    "plt.plot(x1, y1)"
   ]
  },
  {
   "cell_type": "code",
   "execution_count": 102,
   "id": "a46afafd-34fb-4d5a-a161-af9e48aac851",
   "metadata": {},
   "outputs": [
    {
     "data": {
      "text/plain": [
       "[<matplotlib.lines.Line2D at 0x7f98d395dfd0>]"
      ]
     },
     "execution_count": 102,
     "metadata": {},
     "output_type": "execute_result"
    },
    {
     "data": {
      "image/png": "[encoded data removed]",
      "text/plain": [
       "<Figure size 432x288 with 1 Axes>"
      ]
     },
     "metadata": {
      "needs_background": "light"
     },
     "output_type": "display_data"
    }
   ],
   "source": [
    "m = 1\n",
    "l = 1.125\n",
    "r_s = 200\n",
    "V = 1/2 + (l**2)/(2*rd**2) - (r_s)/(2*rd) - (r_s*l**2)/(2*rd**3)\n",
    "plt.plot(rd, V)"
   ]
  },
  {
   "cell_type": "code",
   "execution_count": 103,
   "id": "a3ab0f10-bfb8-4979-be8e-f9391d484ca9",
   "metadata": {},
   "outputs": [
    {
     "data": {
      "text/plain": [
       "[<matplotlib.lines.Line2D at 0x7f98d3c70fa0>]"
      ]
     },
     "execution_count": 103,
     "metadata": {},
     "output_type": "execute_result"
    },
    {
     "data": {
      "image/png": "[encoded data removed]",
      "text/plain": [
       "<Figure size 432x288 with 1 Axes>"
      ]
     },
     "metadata": {
      "needs_background": "light"
     },
     "output_type": "display_data"
    }
   ],
   "source": [
    "l = 2\n",
    "r_s = 1\n",
    "\n",
    "x = np.arange(2, 10, 0.05)\n",
    "y = 1/2 + (l**2/(2*x**2)) - (r_s)/(2*x) - (r_s*l**2)/(2*x**3)\n",
    "plt.plot(x, y)"
   ]
  },
  {
   "cell_type": "markdown",
   "id": "f4625022-6056-4a58-9ec0-901da3310984",
   "metadata": {},
   "source": [
    "Then we can animate:"
   ]
  },
  {
   "cell_type": "code",
   "execution_count": 104,
   "id": "0584b432-40cd-4455-a22f-827521f7d0c7",
   "metadata": {},
   "outputs": [
    {
     "data": {
      "image/png": "[encoded data removed]",
      "text/plain": [
       "<Figure size 576x576 with 1 Axes>"
      ]
     },
     "metadata": {},
     "output_type": "display_data"
    }
   ],
   "source": [
    "fig, ax = plt.subplots(1, 1, figsize = (8,8))\n",
    "ax.set_facecolor('k')\n",
    "ax.get_xaxis().set_ticks([])\n",
    "ax.get_yaxis().set_ticks([])\n",
    "xdata = []\n",
    "ydata = []\n",
    "ln2, = plt.plot([],[], color = 'g', lw=1,)\n",
    "ln1, = plt.plot([],[],'o', lw=3, markersize = 8)\n",
    "ax.set_ylim(-20, 20)\n",
    "ax.set_xlim(-20, 20)\n",
    "\n",
    "def animate(i):\n",
    "    xdata.append(x1[i])\n",
    "    ydata.append(y1[i])\n",
    "    ln2.set_data(xdata, ydata)\n",
    "    ln1.set_data([0, x1[i]],[0, y1[i]])\n",
    "\n",
    "ani = animation.FuncAnimation(fig, animate, frames = 4000, interval=50)\n",
    "ani.save('pen.gif', writer = 'pillow', fps = 30)"
   ]
  }
 ],
 "metadata": {
  "kernelspec": {
   "display_name": "Python 3 (ipykernel)",
   "language": "python",
   "name": "python3"
  },
  "language_info": {
   "codemirror_mode": {
    "name": "ipython",
    "version": 3
   },
   "file_extension": ".py",
   "mimetype": "text/x-python",
   "name": "python",
   "nbconvert_exporter": "python",
   "pygments_lexer": "ipython3",
   "version": "3.9.7"
  }
 },
 "nbformat": 4,
 "nbformat_minor": 5
}
